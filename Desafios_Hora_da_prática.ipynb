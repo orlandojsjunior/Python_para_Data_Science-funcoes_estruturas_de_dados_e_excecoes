{
  "cells": [
    {
      "cell_type": "markdown",
      "metadata": {
        "colab_type": "text",
        "id": "view-in-github"
      },
      "source": [
        "<a href=\"https://colab.research.google.com/github/orlandojsjunior/Python_para_Data_Science-funcoes_estruturas_de_dados_e_excecoes/blob/main/Desafios_Hora_da_pr%C3%A1tica.ipynb\" target=\"_parent\"><img src=\"https://colab.research.google.com/assets/colab-badge.svg\" alt=\"Open In Colab\"/></a>"
      ]
    },
    {
      "cell_type": "markdown",
      "metadata": {
        "id": "_kwAaQ36gLQ1"
      },
      "source": [
        "# Sobre o notebook\n",
        "\n",
        "A \"hora da prática\" é uma atividade do curso de Python para Data Science da Alura que contém diversos desafios envolvendo os aprendizados de cada aula.\n",
        "\n",
        "O notebook \"hora da prática\" é um notebook construído com espaço para as células dos desafios propostos no curso, com ele você tem espaço para construir e executar suas soluções"
      ]
    },
    {
      "cell_type": "markdown",
      "metadata": {
        "id": "Mc-KN0dA0Z83"
      },
      "source": [
        "## Aula 1 - Bibliotecas"
      ]
    },
    {
      "cell_type": "markdown",
      "metadata": {
        "id": "Dq02fNPCl_JV"
      },
      "source": [
        "### Aquecimento"
      ]
    },
    {
      "cell_type": "markdown",
      "metadata": {
        "id": "l5eLWf0W0ikn"
      },
      "source": [
        "#### Questão 1\n",
        "\n",
        "Escreva um código para instalar a versão `3.7.1` da biblioteca `matplotlib`"
      ]
    },
    {
      "cell_type": "code",
      "execution_count": 2,
      "metadata": {
        "colab": {
          "base_uri": "https://localhost:8080/"
        },
        "id": "m4b6NquSaj3q",
        "outputId": "1c218b83-deef-464f-d1e4-d818db5411e9"
      },
      "outputs": [
        {
          "name": "stdout",
          "output_type": "stream",
          "text": [
            "Collecting matplotlib==3.7.1Note: you may need to restart the kernel to use updated packages.\n"
          ]
        },
        {
          "name": "stderr",
          "output_type": "stream",
          "text": [
            "  error: subprocess-exited-with-error\n",
            "  \n",
            "  × Building wheel for matplotlib (pyproject.toml) did not run successfully.\n",
            "  │ exit code: 1\n",
            "  ╰─> [579 lines of output]\n",
            "      \n",
            "      Edit mplsetup.cfg to change the build options; suppress output with --quiet.\n",
            "      \n",
            "      BUILDING MATPLOTLIB\n",
            "            python: yes [3.12.3 (tags/v3.12.3:f6650f9, Apr  9 2024, 14:05:25) [MSC\n",
            "                        v.1938 64 bit (AMD64)]]\n",
            "          platform: yes [win32]\n",
            "             tests: no  [skipping due to configuration]\n",
            "            macosx: no  [Mac OS-X only]\n",
            "      \n",
            "      C:\\Users\\orlan\\AppData\\Local\\Temp\\pip-build-env-0ceudqjo\\overlay\\Lib\\site-packages\\setuptools\\dist.py:679: SetuptoolsDeprecationWarning: The namespace_packages parameter is deprecated.\n",
            "      !!\n",
            "      \n",
            "              ********************************************************************************\n",
            "              Please replace its usage with implicit namespaces (PEP 420).\n",
            "      \n",
            "              See https://setuptools.pypa.io/en/latest/references/keywords.html#keyword-namespace-packages for details.\n",
            "              ********************************************************************************\n",
            "      \n",
            "      !!\n",
            "        ep.load()(self, ep.name, value)\n",
            "      WARNING setuptools_scm.pyproject_reading toml section missing 'pyproject.toml does not contain a tool.setuptools_scm section'\n",
            "      Traceback (most recent call last):\n",
            "        File \"C:\\Users\\orlan\\AppData\\Local\\Temp\\pip-build-env-0ceudqjo\\overlay\\Lib\\site-packages\\setuptools_scm\\_integration\\pyproject_reading.py\", line 36, in read_pyproject\n",
            "          section = defn.get(\"tool\", {})[tool_name]\n",
            "                    ~~~~~~~~~~~~~~~~~~~~^^^^^^^^^^^\n",
            "      KeyError: 'setuptools_scm'\n",
            "      C:\\Users\\orlan\\AppData\\Local\\Temp\\pip-build-env-0ceudqjo\\overlay\\Lib\\site-packages\\setuptools_scm\\git.py:312: UserWarning: git archive did not support describe output\n",
            "        warnings.warn(\"git archive did not support describe output\")\n",
            "      C:\\Users\\orlan\\AppData\\Local\\Temp\\pip-build-env-0ceudqjo\\overlay\\Lib\\site-packages\\setuptools_scm\\git.py:331: UserWarning: unprocessed git archival found (no export subst applied)\n",
            "        warnings.warn(\"unprocessed git archival found (no export subst applied)\")\n",
            "      running bdist_wheel\n",
            "      running build\n",
            "      running build_py\n",
            "      creating build\n",
            "      creating build\\lib.win-amd64-cpython-312\n",
            "      copying lib\\pylab.py -> build\\lib.win-amd64-cpython-312\n",
            "      creating build\\lib.win-amd64-cpython-312\\matplotlib\n",
            "      copying lib\\matplotlib\\afm.py -> build\\lib.win-amd64-cpython-312\\matplotlib\n",
            "      copying lib\\matplotlib\\animation.py -> build\\lib.win-amd64-cpython-312\\matplotlib\n",
            "      copying lib\\matplotlib\\artist.py -> build\\lib.win-amd64-cpython-312\\matplotlib\n",
            "      copying lib\\matplotlib\\axis.py -> build\\lib.win-amd64-cpython-312\\matplotlib\n",
            "      copying lib\\matplotlib\\backend_bases.py -> build\\lib.win-amd64-cpython-312\\matplotlib\n",
            "      copying lib\\matplotlib\\backend_managers.py -> build\\lib.win-amd64-cpython-312\\matplotlib\n",
            "      copying lib\\matplotlib\\backend_tools.py -> build\\lib.win-amd64-cpython-312\\matplotlib\n",
            "      copying lib\\matplotlib\\bezier.py -> build\\lib.win-amd64-cpython-312\\matplotlib\n",
            "      copying lib\\matplotlib\\category.py -> build\\lib.win-amd64-cpython-312\\matplotlib\n",
            "      copying lib\\matplotlib\\cm.py -> build\\lib.win-amd64-cpython-312\\matplotlib\n",
            "      copying lib\\matplotlib\\collections.py -> build\\lib.win-amd64-cpython-312\\matplotlib\n",
            "      copying lib\\matplotlib\\colorbar.py -> build\\lib.win-amd64-cpython-312\\matplotlib\n",
            "      copying lib\\matplotlib\\colors.py -> build\\lib.win-amd64-cpython-312\\matplotlib\n",
            "      copying lib\\matplotlib\\container.py -> build\\lib.win-amd64-cpython-312\\matplotlib\n",
            "      copying lib\\matplotlib\\contour.py -> build\\lib.win-amd64-cpython-312\\matplotlib\n",
            "      copying lib\\matplotlib\\dates.py -> build\\lib.win-amd64-cpython-312\\matplotlib\n",
            "      copying lib\\matplotlib\\docstring.py -> build\\lib.win-amd64-cpython-312\\matplotlib\n",
            "      copying lib\\matplotlib\\dviread.py -> build\\lib.win-amd64-cpython-312\\matplotlib\n",
            "      copying lib\\matplotlib\\figure.py -> build\\lib.win-amd64-cpython-312\\matplotlib\n",
            "      copying lib\\matplotlib\\fontconfig_pattern.py -> build\\lib.win-amd64-cpython-312\\matplotlib\n",
            "      copying lib\\matplotlib\\font_manager.py -> build\\lib.win-amd64-cpython-312\\matplotlib\n",
            "      copying lib\\matplotlib\\gridspec.py -> build\\lib.win-amd64-cpython-312\\matplotlib\n",
            "      copying lib\\matplotlib\\hatch.py -> build\\lib.win-amd64-cpython-312\\matplotlib\n",
            "      copying lib\\matplotlib\\image.py -> build\\lib.win-amd64-cpython-312\\matplotlib\n",
            "      copying lib\\matplotlib\\layout_engine.py -> build\\lib.win-amd64-cpython-312\\matplotlib\n",
            "      copying lib\\matplotlib\\legend.py -> build\\lib.win-amd64-cpython-312\\matplotlib\n",
            "      copying lib\\matplotlib\\legend_handler.py -> build\\lib.win-amd64-cpython-312\\matplotlib\n",
            "      copying lib\\matplotlib\\lines.py -> build\\lib.win-amd64-cpython-312\\matplotlib\n",
            "      copying lib\\matplotlib\\markers.py -> build\\lib.win-amd64-cpython-312\\matplotlib\n",
            "      copying lib\\matplotlib\\mathtext.py -> build\\lib.win-amd64-cpython-312\\matplotlib\n",
            "      copying lib\\matplotlib\\mlab.py -> build\\lib.win-amd64-cpython-312\\matplotlib\n",
            "      copying lib\\matplotlib\\offsetbox.py -> build\\lib.win-amd64-cpython-312\\matplotlib\n",
            "      copying lib\\matplotlib\\patches.py -> build\\lib.win-amd64-cpython-312\\matplotlib\n",
            "      copying lib\\matplotlib\\path.py -> build\\lib.win-amd64-cpython-312\\matplotlib\n",
            "      copying lib\\matplotlib\\patheffects.py -> build\\lib.win-amd64-cpython-312\\matplotlib\n",
            "      copying lib\\matplotlib\\pylab.py -> build\\lib.win-amd64-cpython-312\\matplotlib\n",
            "      copying lib\\matplotlib\\pyplot.py -> build\\lib.win-amd64-cpython-312\\matplotlib\n",
            "      copying lib\\matplotlib\\quiver.py -> build\\lib.win-amd64-cpython-312\\matplotlib\n",
            "      copying lib\\matplotlib\\rcsetup.py -> build\\lib.win-amd64-cpython-312\\matplotlib\n",
            "      copying lib\\matplotlib\\sankey.py -> build\\lib.win-amd64-cpython-312\\matplotlib\n",
            "      copying lib\\matplotlib\\scale.py -> build\\lib.win-amd64-cpython-312\\matplotlib\n",
            "      copying lib\\matplotlib\\spines.py -> build\\lib.win-amd64-cpython-312\\matplotlib\n",
            "      copying lib\\matplotlib\\stackplot.py -> build\\lib.win-amd64-cpython-312\\matplotlib\n",
            "      copying lib\\matplotlib\\streamplot.py -> build\\lib.win-amd64-cpython-312\\matplotlib\n",
            "      copying lib\\matplotlib\\table.py -> build\\lib.win-amd64-cpython-312\\matplotlib\n",
            "      copying lib\\matplotlib\\texmanager.py -> build\\lib.win-amd64-cpython-312\\matplotlib\n",
            "      copying lib\\matplotlib\\text.py -> build\\lib.win-amd64-cpython-312\\matplotlib\n",
            "      copying lib\\matplotlib\\textpath.py -> build\\lib.win-amd64-cpython-312\\matplotlib\n",
            "      copying lib\\matplotlib\\ticker.py -> build\\lib.win-amd64-cpython-312\\matplotlib\n",
            "      copying lib\\matplotlib\\tight_bbox.py -> build\\lib.win-amd64-cpython-312\\matplotlib\n",
            "      copying lib\\matplotlib\\tight_layout.py -> build\\lib.win-amd64-cpython-312\\matplotlib\n",
            "      copying lib\\matplotlib\\transforms.py -> build\\lib.win-amd64-cpython-312\\matplotlib\n",
            "      copying lib\\matplotlib\\type1font.py -> build\\lib.win-amd64-cpython-312\\matplotlib\n",
            "      copying lib\\matplotlib\\units.py -> build\\lib.win-amd64-cpython-312\\matplotlib\n",
            "      copying lib\\matplotlib\\widgets.py -> build\\lib.win-amd64-cpython-312\\matplotlib\n",
            "      copying lib\\matplotlib\\_afm.py -> build\\lib.win-amd64-cpython-312\\matplotlib\n",
            "      copying lib\\matplotlib\\_animation_data.py -> build\\lib.win-amd64-cpython-312\\matplotlib\n",
            "      copying lib\\matplotlib\\_blocking_input.py -> build\\lib.win-amd64-cpython-312\\matplotlib\n",
            "      copying lib\\matplotlib\\_cm.py -> build\\lib.win-amd64-cpython-312\\matplotlib\n",
            "      copying lib\\matplotlib\\_cm_listed.py -> build\\lib.win-amd64-cpython-312\\matplotlib\n",
            "      copying lib\\matplotlib\\_color_data.py -> build\\lib.win-amd64-cpython-312\\matplotlib\n",
            "      copying lib\\matplotlib\\_constrained_layout.py -> build\\lib.win-amd64-cpython-312\\matplotlib\n",
            "      copying lib\\matplotlib\\_docstring.py -> build\\lib.win-amd64-cpython-312\\matplotlib\n",
            "      copying lib\\matplotlib\\_enums.py -> build\\lib.win-amd64-cpython-312\\matplotlib\n",
            "      copying lib\\matplotlib\\_fontconfig_pattern.py -> build\\lib.win-amd64-cpython-312\\matplotlib\n",
            "      copying lib\\matplotlib\\_internal_utils.py -> build\\lib.win-amd64-cpython-312\\matplotlib\n",
            "      copying lib\\matplotlib\\_layoutgrid.py -> build\\lib.win-amd64-cpython-312\\matplotlib\n",
            "      copying lib\\matplotlib\\_mathtext.py -> build\\lib.win-amd64-cpython-312\\matplotlib\n",
            "      copying lib\\matplotlib\\_mathtext_data.py -> build\\lib.win-amd64-cpython-312\\matplotlib\n",
            "      copying lib\\matplotlib\\_pylab_helpers.py -> build\\lib.win-amd64-cpython-312\\matplotlib\n",
            "      copying lib\\matplotlib\\_text_helpers.py -> build\\lib.win-amd64-cpython-312\\matplotlib\n",
            "      copying lib\\matplotlib\\_tight_bbox.py -> build\\lib.win-amd64-cpython-312\\matplotlib\n",
            "      copying lib\\matplotlib\\_tight_layout.py -> build\\lib.win-amd64-cpython-312\\matplotlib\n",
            "      copying lib\\matplotlib\\_type1font.py -> build\\lib.win-amd64-cpython-312\\matplotlib\n",
            "      copying lib\\matplotlib\\_version.py -> build\\lib.win-amd64-cpython-312\\matplotlib\n",
            "      copying lib\\matplotlib\\__init__.py -> build\\lib.win-amd64-cpython-312\\matplotlib\n",
            "      creating build\\lib.win-amd64-cpython-312\\mpl_toolkits\n",
            "      copying lib\\mpl_toolkits\\__init__.py -> build\\lib.win-amd64-cpython-312\\mpl_toolkits\n",
            "      creating build\\lib.win-amd64-cpython-312\\matplotlib\\axes\n",
            "      copying lib\\matplotlib\\axes\\_axes.py -> build\\lib.win-amd64-cpython-312\\matplotlib\\axes\n",
            "      copying lib\\matplotlib\\axes\\_base.py -> build\\lib.win-amd64-cpython-312\\matplotlib\\axes\n",
            "      copying lib\\matplotlib\\axes\\_secondary_axes.py -> build\\lib.win-amd64-cpython-312\\matplotlib\\axes\n",
            "      copying lib\\matplotlib\\axes\\__init__.py -> build\\lib.win-amd64-cpython-312\\matplotlib\\axes\n",
            "      creating build\\lib.win-amd64-cpython-312\\matplotlib\\backends\n",
            "      copying lib\\matplotlib\\backends\\backend_agg.py -> build\\lib.win-amd64-cpython-312\\matplotlib\\backends\n",
            "      copying lib\\matplotlib\\backends\\backend_cairo.py -> build\\lib.win-amd64-cpython-312\\matplotlib\\backends\n",
            "      copying lib\\matplotlib\\backends\\backend_gtk3.py -> build\\lib.win-amd64-cpython-312\\matplotlib\\backends\n",
            "      copying lib\\matplotlib\\backends\\backend_gtk3agg.py -> build\\lib.win-amd64-cpython-312\\matplotlib\\backends\n",
            "      copying lib\\matplotlib\\backends\\backend_gtk3cairo.py -> build\\lib.win-amd64-cpython-312\\matplotlib\\backends\n",
            "      copying lib\\matplotlib\\backends\\backend_gtk4.py -> build\\lib.win-amd64-cpython-312\\matplotlib\\backends\n",
            "      copying lib\\matplotlib\\backends\\backend_gtk4agg.py -> build\\lib.win-amd64-cpython-312\\matplotlib\\backends\n",
            "      copying lib\\matplotlib\\backends\\backend_gtk4cairo.py -> build\\lib.win-amd64-cpython-312\\matplotlib\\backends\n",
            "      copying lib\\matplotlib\\backends\\backend_macosx.py -> build\\lib.win-amd64-cpython-312\\matplotlib\\backends\n",
            "      copying lib\\matplotlib\\backends\\backend_mixed.py -> build\\lib.win-amd64-cpython-312\\matplotlib\\backends\n",
            "      copying lib\\matplotlib\\backends\\backend_nbagg.py -> build\\lib.win-amd64-cpython-312\\matplotlib\\backends\n",
            "      copying lib\\matplotlib\\backends\\backend_pdf.py -> build\\lib.win-amd64-cpython-312\\matplotlib\\backends\n",
            "      copying lib\\matplotlib\\backends\\backend_pgf.py -> build\\lib.win-amd64-cpython-312\\matplotlib\\backends\n",
            "      copying lib\\matplotlib\\backends\\backend_ps.py -> build\\lib.win-amd64-cpython-312\\matplotlib\\backends\n",
            "      copying lib\\matplotlib\\backends\\backend_qt.py -> build\\lib.win-amd64-cpython-312\\matplotlib\\backends\n",
            "      copying lib\\matplotlib\\backends\\backend_qt5.py -> build\\lib.win-amd64-cpython-312\\matplotlib\\backends\n",
            "      copying lib\\matplotlib\\backends\\backend_qt5agg.py -> build\\lib.win-amd64-cpython-312\\matplotlib\\backends\n",
            "      copying lib\\matplotlib\\backends\\backend_qt5cairo.py -> build\\lib.win-amd64-cpython-312\\matplotlib\\backends\n",
            "      copying lib\\matplotlib\\backends\\backend_qtagg.py -> build\\lib.win-amd64-cpython-312\\matplotlib\\backends\n",
            "      copying lib\\matplotlib\\backends\\backend_qtcairo.py -> build\\lib.win-amd64-cpython-312\\matplotlib\\backends\n",
            "      copying lib\\matplotlib\\backends\\backend_svg.py -> build\\lib.win-amd64-cpython-312\\matplotlib\\backends\n",
            "      copying lib\\matplotlib\\backends\\backend_template.py -> build\\lib.win-amd64-cpython-312\\matplotlib\\backends\n",
            "      copying lib\\matplotlib\\backends\\backend_tkagg.py -> build\\lib.win-amd64-cpython-312\\matplotlib\\backends\n",
            "      copying lib\\matplotlib\\backends\\backend_tkcairo.py -> build\\lib.win-amd64-cpython-312\\matplotlib\\backends\n",
            "      copying lib\\matplotlib\\backends\\backend_webagg.py -> build\\lib.win-amd64-cpython-312\\matplotlib\\backends\n",
            "      copying lib\\matplotlib\\backends\\backend_webagg_core.py -> build\\lib.win-amd64-cpython-312\\matplotlib\\backends\n",
            "      copying lib\\matplotlib\\backends\\backend_wx.py -> build\\lib.win-amd64-cpython-312\\matplotlib\\backends\n",
            "      copying lib\\matplotlib\\backends\\backend_wxagg.py -> build\\lib.win-amd64-cpython-312\\matplotlib\\backends\n",
            "      copying lib\\matplotlib\\backends\\backend_wxcairo.py -> build\\lib.win-amd64-cpython-312\\matplotlib\\backends\n",
            "      copying lib\\matplotlib\\backends\\qt_compat.py -> build\\lib.win-amd64-cpython-312\\matplotlib\\backends\n",
            "      copying lib\\matplotlib\\backends\\_backend_gtk.py -> build\\lib.win-amd64-cpython-312\\matplotlib\\backends\n",
            "      copying lib\\matplotlib\\backends\\_backend_pdf_ps.py -> build\\lib.win-amd64-cpython-312\\matplotlib\\backends\n",
            "      copying lib\\matplotlib\\backends\\_backend_tk.py -> build\\lib.win-amd64-cpython-312\\matplotlib\\backends\n",
            "      copying lib\\matplotlib\\backends\\__init__.py -> build\\lib.win-amd64-cpython-312\\matplotlib\\backends\n",
            "      creating build\\lib.win-amd64-cpython-312\\matplotlib\\cbook\n",
            "      copying lib\\matplotlib\\cbook\\__init__.py -> build\\lib.win-amd64-cpython-312\\matplotlib\\cbook\n",
            "      creating build\\lib.win-amd64-cpython-312\\matplotlib\\projections\n",
            "      copying lib\\matplotlib\\projections\\geo.py -> build\\lib.win-amd64-cpython-312\\matplotlib\\projections\n",
            "      copying lib\\matplotlib\\projections\\polar.py -> build\\lib.win-amd64-cpython-312\\matplotlib\\projections\n",
            "      copying lib\\matplotlib\\projections\\__init__.py -> build\\lib.win-amd64-cpython-312\\matplotlib\\projections\n",
            "      creating build\\lib.win-amd64-cpython-312\\matplotlib\\sphinxext\n",
            "      copying lib\\matplotlib\\sphinxext\\mathmpl.py -> build\\lib.win-amd64-cpython-312\\matplotlib\\sphinxext\n",
            "      copying lib\\matplotlib\\sphinxext\\plot_directive.py -> build\\lib.win-amd64-cpython-312\\matplotlib\\sphinxext\n",
            "      copying lib\\matplotlib\\sphinxext\\__init__.py -> build\\lib.win-amd64-cpython-312\\matplotlib\\sphinxext\n",
            "      creating build\\lib.win-amd64-cpython-312\\matplotlib\\style\n",
            "      copying lib\\matplotlib\\style\\core.py -> build\\lib.win-amd64-cpython-312\\matplotlib\\style\n",
            "      copying lib\\matplotlib\\style\\__init__.py -> build\\lib.win-amd64-cpython-312\\matplotlib\\style\n",
            "      creating build\\lib.win-amd64-cpython-312\\matplotlib\\testing\n",
            "      copying lib\\matplotlib\\testing\\compare.py -> build\\lib.win-amd64-cpython-312\\matplotlib\\testing\n",
            "      copying lib\\matplotlib\\testing\\conftest.py -> build\\lib.win-amd64-cpython-312\\matplotlib\\testing\n",
            "      copying lib\\matplotlib\\testing\\decorators.py -> build\\lib.win-amd64-cpython-312\\matplotlib\\testing\n",
            "      copying lib\\matplotlib\\testing\\exceptions.py -> build\\lib.win-amd64-cpython-312\\matplotlib\\testing\n",
            "      copying lib\\matplotlib\\testing\\widgets.py -> build\\lib.win-amd64-cpython-312\\matplotlib\\testing\n",
            "      copying lib\\matplotlib\\testing\\_markers.py -> build\\lib.win-amd64-cpython-312\\matplotlib\\testing\n",
            "      copying lib\\matplotlib\\testing\\__init__.py -> build\\lib.win-amd64-cpython-312\\matplotlib\\testing\n",
            "      creating build\\lib.win-amd64-cpython-312\\matplotlib\\tests\n",
            "      copying lib\\matplotlib\\tests\\conftest.py -> build\\lib.win-amd64-cpython-312\\matplotlib\\tests\n",
            "      copying lib\\matplotlib\\tests\\test_afm.py -> build\\lib.win-amd64-cpython-312\\matplotlib\\tests\n",
            "      copying lib\\matplotlib\\tests\\test_agg.py -> build\\lib.win-amd64-cpython-312\\matplotlib\\tests\n",
            "      copying lib\\matplotlib\\tests\\test_agg_filter.py -> build\\lib.win-amd64-cpython-312\\matplotlib\\tests\n",
            "      copying lib\\matplotlib\\tests\\test_animation.py -> build\\lib.win-amd64-cpython-312\\matplotlib\\tests\n",
            "      copying lib\\matplotlib\\tests\\test_api.py -> build\\lib.win-amd64-cpython-312\\matplotlib\\tests\n",
            "      copying lib\\matplotlib\\tests\\test_arrow_patches.py -> build\\lib.win-amd64-cpython-312\\matplotlib\\tests\n",
            "      copying lib\\matplotlib\\tests\\test_artist.py -> build\\lib.win-amd64-cpython-312\\matplotlib\\tests\n",
            "      copying lib\\matplotlib\\tests\\test_axes.py -> build\\lib.win-amd64-cpython-312\\matplotlib\\tests\n",
            "      copying lib\\matplotlib\\tests\\test_backends_interactive.py -> build\\lib.win-amd64-cpython-312\\matplotlib\\tests\n",
            "      copying lib\\matplotlib\\tests\\test_backend_bases.py -> build\\lib.win-amd64-cpython-312\\matplotlib\\tests\n",
            "      copying lib\\matplotlib\\tests\\test_backend_cairo.py -> build\\lib.win-amd64-cpython-312\\matplotlib\\tests\n",
            "      copying lib\\matplotlib\\tests\\test_backend_gtk3.py -> build\\lib.win-amd64-cpython-312\\matplotlib\\tests\n",
            "      copying lib\\matplotlib\\tests\\test_backend_macosx.py -> build\\lib.win-amd64-cpython-312\\matplotlib\\tests\n",
            "      copying lib\\matplotlib\\tests\\test_backend_nbagg.py -> build\\lib.win-amd64-cpython-312\\matplotlib\\tests\n",
            "      copying lib\\matplotlib\\tests\\test_backend_pdf.py -> build\\lib.win-amd64-cpython-312\\matplotlib\\tests\n",
            "      copying lib\\matplotlib\\tests\\test_backend_pgf.py -> build\\lib.win-amd64-cpython-312\\matplotlib\\tests\n",
            "      copying lib\\matplotlib\\tests\\test_backend_ps.py -> build\\lib.win-amd64-cpython-312\\matplotlib\\tests\n",
            "      copying lib\\matplotlib\\tests\\test_backend_qt.py -> build\\lib.win-amd64-cpython-312\\matplotlib\\tests\n",
            "      copying lib\\matplotlib\\tests\\test_backend_svg.py -> build\\lib.win-amd64-cpython-312\\matplotlib\\tests\n",
            "      copying lib\\matplotlib\\tests\\test_backend_template.py -> build\\lib.win-amd64-cpython-312\\matplotlib\\tests\n",
            "      copying lib\\matplotlib\\tests\\test_backend_tk.py -> build\\lib.win-amd64-cpython-312\\matplotlib\\tests\n",
            "      copying lib\\matplotlib\\tests\\test_backend_tools.py -> build\\lib.win-amd64-cpython-312\\matplotlib\\tests\n",
            "      copying lib\\matplotlib\\tests\\test_backend_webagg.py -> build\\lib.win-amd64-cpython-312\\matplotlib\\tests\n",
            "      copying lib\\matplotlib\\tests\\test_basic.py -> build\\lib.win-amd64-cpython-312\\matplotlib\\tests\n",
            "      copying lib\\matplotlib\\tests\\test_bbox_tight.py -> build\\lib.win-amd64-cpython-312\\matplotlib\\tests\n",
            "      copying lib\\matplotlib\\tests\\test_category.py -> build\\lib.win-amd64-cpython-312\\matplotlib\\tests\n",
            "      copying lib\\matplotlib\\tests\\test_cbook.py -> build\\lib.win-amd64-cpython-312\\matplotlib\\tests\n",
            "      copying lib\\matplotlib\\tests\\test_collections.py -> build\\lib.win-amd64-cpython-312\\matplotlib\\tests\n",
            "      copying lib\\matplotlib\\tests\\test_colorbar.py -> build\\lib.win-amd64-cpython-312\\matplotlib\\tests\n",
            "      copying lib\\matplotlib\\tests\\test_colors.py -> build\\lib.win-amd64-cpython-312\\matplotlib\\tests\n",
            "      copying lib\\matplotlib\\tests\\test_compare_images.py -> build\\lib.win-amd64-cpython-312\\matplotlib\\tests\n",
            "      copying lib\\matplotlib\\tests\\test_constrainedlayout.py -> build\\lib.win-amd64-cpython-312\\matplotlib\\tests\n",
            "      copying lib\\matplotlib\\tests\\test_container.py -> build\\lib.win-amd64-cpython-312\\matplotlib\\tests\n",
            "      copying lib\\matplotlib\\tests\\test_contour.py -> build\\lib.win-amd64-cpython-312\\matplotlib\\tests\n",
            "      copying lib\\matplotlib\\tests\\test_cycles.py -> build\\lib.win-amd64-cpython-312\\matplotlib\\tests\n",
            "      copying lib\\matplotlib\\tests\\test_dates.py -> build\\lib.win-amd64-cpython-312\\matplotlib\\tests\n",
            "      copying lib\\matplotlib\\tests\\test_determinism.py -> build\\lib.win-amd64-cpython-312\\matplotlib\\tests\n",
            "      copying lib\\matplotlib\\tests\\test_doc.py -> build\\lib.win-amd64-cpython-312\\matplotlib\\tests\n",
            "      copying lib\\matplotlib\\tests\\test_dviread.py -> build\\lib.win-amd64-cpython-312\\matplotlib\\tests\n",
            "      copying lib\\matplotlib\\tests\\test_figure.py -> build\\lib.win-amd64-cpython-312\\matplotlib\\tests\n",
            "      copying lib\\matplotlib\\tests\\test_fontconfig_pattern.py -> build\\lib.win-amd64-cpython-312\\matplotlib\\tests\n",
            "      copying lib\\matplotlib\\tests\\test_font_manager.py -> build\\lib.win-amd64-cpython-312\\matplotlib\\tests\n",
            "      copying lib\\matplotlib\\tests\\test_ft2font.py -> build\\lib.win-amd64-cpython-312\\matplotlib\\tests\n",
            "      copying lib\\matplotlib\\tests\\test_getattr.py -> build\\lib.win-amd64-cpython-312\\matplotlib\\tests\n",
            "      copying lib\\matplotlib\\tests\\test_gridspec.py -> build\\lib.win-amd64-cpython-312\\matplotlib\\tests\n",
            "      copying lib\\matplotlib\\tests\\test_image.py -> build\\lib.win-amd64-cpython-312\\matplotlib\\tests\n",
            "      copying lib\\matplotlib\\tests\\test_legend.py -> build\\lib.win-amd64-cpython-312\\matplotlib\\tests\n",
            "      copying lib\\matplotlib\\tests\\test_lines.py -> build\\lib.win-amd64-cpython-312\\matplotlib\\tests\n",
            "      copying lib\\matplotlib\\tests\\test_marker.py -> build\\lib.win-amd64-cpython-312\\matplotlib\\tests\n",
            "      copying lib\\matplotlib\\tests\\test_mathtext.py -> build\\lib.win-amd64-cpython-312\\matplotlib\\tests\n",
            "      copying lib\\matplotlib\\tests\\test_matplotlib.py -> build\\lib.win-amd64-cpython-312\\matplotlib\\tests\n",
            "      copying lib\\matplotlib\\tests\\test_mlab.py -> build\\lib.win-amd64-cpython-312\\matplotlib\\tests\n",
            "      copying lib\\matplotlib\\tests\\test_offsetbox.py -> build\\lib.win-amd64-cpython-312\\matplotlib\\tests\n",
            "      copying lib\\matplotlib\\tests\\test_patches.py -> build\\lib.win-amd64-cpython-312\\matplotlib\\tests\n",
            "      copying lib\\matplotlib\\tests\\test_path.py -> build\\lib.win-amd64-cpython-312\\matplotlib\\tests\n",
            "      copying lib\\matplotlib\\tests\\test_patheffects.py -> build\\lib.win-amd64-cpython-312\\matplotlib\\tests\n",
            "      copying lib\\matplotlib\\tests\\test_pickle.py -> build\\lib.win-amd64-cpython-312\\matplotlib\\tests\n",
            "      copying lib\\matplotlib\\tests\\test_png.py -> build\\lib.win-amd64-cpython-312\\matplotlib\\tests\n",
            "      copying lib\\matplotlib\\tests\\test_polar.py -> build\\lib.win-amd64-cpython-312\\matplotlib\\tests\n",
            "      copying lib\\matplotlib\\tests\\test_preprocess_data.py -> build\\lib.win-amd64-cpython-312\\matplotlib\\tests\n",
            "      copying lib\\matplotlib\\tests\\test_pyplot.py -> build\\lib.win-amd64-cpython-312\\matplotlib\\tests\n",
            "      copying lib\\matplotlib\\tests\\test_quiver.py -> build\\lib.win-amd64-cpython-312\\matplotlib\\tests\n",
            "      copying lib\\matplotlib\\tests\\test_rcparams.py -> build\\lib.win-amd64-cpython-312\\matplotlib\\tests\n",
            "      copying lib\\matplotlib\\tests\\test_sankey.py -> build\\lib.win-amd64-cpython-312\\matplotlib\\tests\n",
            "      copying lib\\matplotlib\\tests\\test_scale.py -> build\\lib.win-amd64-cpython-312\\matplotlib\\tests\n",
            "      copying lib\\matplotlib\\tests\\test_simplification.py -> build\\lib.win-amd64-cpython-312\\matplotlib\\tests\n",
            "      copying lib\\matplotlib\\tests\\test_skew.py -> build\\lib.win-amd64-cpython-312\\matplotlib\\tests\n",
            "      copying lib\\matplotlib\\tests\\test_sphinxext.py -> build\\lib.win-amd64-cpython-312\\matplotlib\\tests\n",
            "      copying lib\\matplotlib\\tests\\test_spines.py -> build\\lib.win-amd64-cpython-312\\matplotlib\\tests\n",
            "      copying lib\\matplotlib\\tests\\test_streamplot.py -> build\\lib.win-amd64-cpython-312\\matplotlib\\tests\n",
            "      copying lib\\matplotlib\\tests\\test_style.py -> build\\lib.win-amd64-cpython-312\\matplotlib\\tests\n",
            "      copying lib\\matplotlib\\tests\\test_subplots.py -> build\\lib.win-amd64-cpython-312\\matplotlib\\tests\n",
            "      copying lib\\matplotlib\\tests\\test_table.py -> build\\lib.win-amd64-cpython-312\\matplotlib\\tests\n",
            "      copying lib\\matplotlib\\tests\\test_testing.py -> build\\lib.win-amd64-cpython-312\\matplotlib\\tests\n",
            "      copying lib\\matplotlib\\tests\\test_texmanager.py -> build\\lib.win-amd64-cpython-312\\matplotlib\\tests\n",
            "      copying lib\\matplotlib\\tests\\test_text.py -> build\\lib.win-amd64-cpython-312\\matplotlib\\tests\n",
            "      copying lib\\matplotlib\\tests\\test_textpath.py -> build\\lib.win-amd64-cpython-312\\matplotlib\\tests\n",
            "      copying lib\\matplotlib\\tests\\test_ticker.py -> build\\lib.win-amd64-cpython-312\\matplotlib\\tests\n",
            "      copying lib\\matplotlib\\tests\\test_tightlayout.py -> build\\lib.win-amd64-cpython-312\\matplotlib\\tests\n",
            "      copying lib\\matplotlib\\tests\\test_transforms.py -> build\\lib.win-amd64-cpython-312\\matplotlib\\tests\n",
            "      copying lib\\matplotlib\\tests\\test_triangulation.py -> build\\lib.win-amd64-cpython-312\\matplotlib\\tests\n",
            "      copying lib\\matplotlib\\tests\\test_ttconv.py -> build\\lib.win-amd64-cpython-312\\matplotlib\\tests\n",
            "      copying lib\\matplotlib\\tests\\test_type1font.py -> build\\lib.win-amd64-cpython-312\\matplotlib\\tests\n",
            "      copying lib\\matplotlib\\tests\\test_units.py -> build\\lib.win-amd64-cpython-312\\matplotlib\\tests\n",
            "      copying lib\\matplotlib\\tests\\test_usetex.py -> build\\lib.win-amd64-cpython-312\\matplotlib\\tests\n",
            "      copying lib\\matplotlib\\tests\\test_widgets.py -> build\\lib.win-amd64-cpython-312\\matplotlib\\tests\n",
            "      copying lib\\matplotlib\\tests\\__init__.py -> build\\lib.win-amd64-cpython-312\\matplotlib\\tests\n",
            "      creating build\\lib.win-amd64-cpython-312\\matplotlib\\tri\n",
            "      copying lib\\matplotlib\\tri\\triangulation.py -> build\\lib.win-amd64-cpython-312\\matplotlib\\tri\n",
            "      copying lib\\matplotlib\\tri\\tricontour.py -> build\\lib.win-amd64-cpython-312\\matplotlib\\tri\n",
            "      copying lib\\matplotlib\\tri\\trifinder.py -> build\\lib.win-amd64-cpython-312\\matplotlib\\tri\n",
            "      copying lib\\matplotlib\\tri\\triinterpolate.py -> build\\lib.win-amd64-cpython-312\\matplotlib\\tri\n",
            "      copying lib\\matplotlib\\tri\\tripcolor.py -> build\\lib.win-amd64-cpython-312\\matplotlib\\tri\n",
            "      copying lib\\matplotlib\\tri\\triplot.py -> build\\lib.win-amd64-cpython-312\\matplotlib\\tri\n",
            "      copying lib\\matplotlib\\tri\\trirefine.py -> build\\lib.win-amd64-cpython-312\\matplotlib\\tri\n",
            "      copying lib\\matplotlib\\tri\\tritools.py -> build\\lib.win-amd64-cpython-312\\matplotlib\\tri\n",
            "      copying lib\\matplotlib\\tri\\_triangulation.py -> build\\lib.win-amd64-cpython-312\\matplotlib\\tri\n",
            "      copying lib\\matplotlib\\tri\\_tricontour.py -> build\\lib.win-amd64-cpython-312\\matplotlib\\tri\n",
            "      copying lib\\matplotlib\\tri\\_trifinder.py -> build\\lib.win-amd64-cpython-312\\matplotlib\\tri\n",
            "      copying lib\\matplotlib\\tri\\_triinterpolate.py -> build\\lib.win-amd64-cpython-312\\matplotlib\\tri\n",
            "      copying lib\\matplotlib\\tri\\_tripcolor.py -> build\\lib.win-amd64-cpython-312\\matplotlib\\tri\n",
            "      copying lib\\matplotlib\\tri\\_triplot.py -> build\\lib.win-amd64-cpython-312\\matplotlib\\tri\n",
            "      copying lib\\matplotlib\\tri\\_trirefine.py -> build\\lib.win-amd64-cpython-312\\matplotlib\\tri\n",
            "      copying lib\\matplotlib\\tri\\_tritools.py -> build\\lib.win-amd64-cpython-312\\matplotlib\\tri\n",
            "      copying lib\\matplotlib\\tri\\__init__.py -> build\\lib.win-amd64-cpython-312\\matplotlib\\tri\n",
            "      creating build\\lib.win-amd64-cpython-312\\matplotlib\\_api\n",
            "      copying lib\\matplotlib\\_api\\deprecation.py -> build\\lib.win-amd64-cpython-312\\matplotlib\\_api\n",
            "      copying lib\\matplotlib\\_api\\__init__.py -> build\\lib.win-amd64-cpython-312\\matplotlib\\_api\n",
            "      creating build\\lib.win-amd64-cpython-312\\matplotlib\\backends\\qt_editor\n",
            "      copying lib\\matplotlib\\backends\\qt_editor\\figureoptions.py -> build\\lib.win-amd64-cpython-312\\matplotlib\\backends\\qt_editor\n",
            "      copying lib\\matplotlib\\backends\\qt_editor\\_formlayout.py -> build\\lib.win-amd64-cpython-312\\matplotlib\\backends\\qt_editor\n",
            "      copying lib\\matplotlib\\backends\\qt_editor\\__init__.py -> build\\lib.win-amd64-cpython-312\\matplotlib\\backends\\qt_editor\n",
            "      creating build\\lib.win-amd64-cpython-312\\matplotlib\\testing\\jpl_units\n",
            "      copying lib\\matplotlib\\testing\\jpl_units\\Duration.py -> build\\lib.win-amd64-cpython-312\\matplotlib\\testing\\jpl_units\n",
            "      copying lib\\matplotlib\\testing\\jpl_units\\Epoch.py -> build\\lib.win-amd64-cpython-312\\matplotlib\\testing\\jpl_units\n",
            "      copying lib\\matplotlib\\testing\\jpl_units\\EpochConverter.py -> build\\lib.win-amd64-cpython-312\\matplotlib\\testing\\jpl_units\n",
            "      copying lib\\matplotlib\\testing\\jpl_units\\StrConverter.py -> build\\lib.win-amd64-cpython-312\\matplotlib\\testing\\jpl_units\n",
            "      copying lib\\matplotlib\\testing\\jpl_units\\UnitDbl.py -> build\\lib.win-amd64-cpython-312\\matplotlib\\testing\\jpl_units\n",
            "      copying lib\\matplotlib\\testing\\jpl_units\\UnitDblConverter.py -> build\\lib.win-amd64-cpython-312\\matplotlib\\testing\\jpl_units\n",
            "      copying lib\\matplotlib\\testing\\jpl_units\\UnitDblFormatter.py -> build\\lib.win-amd64-cpython-312\\matplotlib\\testing\\jpl_units\n",
            "      copying lib\\matplotlib\\testing\\jpl_units\\__init__.py -> build\\lib.win-amd64-cpython-312\\matplotlib\\testing\\jpl_units\n",
            "      creating build\\lib.win-amd64-cpython-312\\mpl_toolkits\\axes_grid1\n",
            "      copying lib\\mpl_toolkits\\axes_grid1\\anchored_artists.py -> build\\lib.win-amd64-cpython-312\\mpl_toolkits\\axes_grid1\n",
            "      copying lib\\mpl_toolkits\\axes_grid1\\axes_divider.py -> build\\lib.win-amd64-cpython-312\\mpl_toolkits\\axes_grid1\n",
            "      copying lib\\mpl_toolkits\\axes_grid1\\axes_grid.py -> build\\lib.win-amd64-cpython-312\\mpl_toolkits\\axes_grid1\n",
            "      copying lib\\mpl_toolkits\\axes_grid1\\axes_rgb.py -> build\\lib.win-amd64-cpython-312\\mpl_toolkits\\axes_grid1\n",
            "      copying lib\\mpl_toolkits\\axes_grid1\\axes_size.py -> build\\lib.win-amd64-cpython-312\\mpl_toolkits\\axes_grid1\n",
            "      copying lib\\mpl_toolkits\\axes_grid1\\inset_locator.py -> build\\lib.win-amd64-cpython-312\\mpl_toolkits\\axes_grid1\n",
            "      copying lib\\mpl_toolkits\\axes_grid1\\mpl_axes.py -> build\\lib.win-amd64-cpython-312\\mpl_toolkits\\axes_grid1\n",
            "      copying lib\\mpl_toolkits\\axes_grid1\\parasite_axes.py -> build\\lib.win-amd64-cpython-312\\mpl_toolkits\\axes_grid1\n",
            "      copying lib\\mpl_toolkits\\axes_grid1\\__init__.py -> build\\lib.win-amd64-cpython-312\\mpl_toolkits\\axes_grid1\n",
            "      creating build\\lib.win-amd64-cpython-312\\mpl_toolkits\\axisartist\n",
            "      copying lib\\mpl_toolkits\\axisartist\\angle_helper.py -> build\\lib.win-amd64-cpython-312\\mpl_toolkits\\axisartist\n",
            "      copying lib\\mpl_toolkits\\axisartist\\axes_divider.py -> build\\lib.win-amd64-cpython-312\\mpl_toolkits\\axisartist\n",
            "      copying lib\\mpl_toolkits\\axisartist\\axes_grid.py -> build\\lib.win-amd64-cpython-312\\mpl_toolkits\\axisartist\n",
            "      copying lib\\mpl_toolkits\\axisartist\\axes_rgb.py -> build\\lib.win-amd64-cpython-312\\mpl_toolkits\\axisartist\n",
            "      copying lib\\mpl_toolkits\\axisartist\\axislines.py -> build\\lib.win-amd64-cpython-312\\mpl_toolkits\\axisartist\n",
            "      copying lib\\mpl_toolkits\\axisartist\\axisline_style.py -> build\\lib.win-amd64-cpython-312\\mpl_toolkits\\axisartist\n",
            "      copying lib\\mpl_toolkits\\axisartist\\axis_artist.py -> build\\lib.win-amd64-cpython-312\\mpl_toolkits\\axisartist\n",
            "      copying lib\\mpl_toolkits\\axisartist\\floating_axes.py -> build\\lib.win-amd64-cpython-312\\mpl_toolkits\\axisartist\n",
            "      copying lib\\mpl_toolkits\\axisartist\\grid_finder.py -> build\\lib.win-amd64-cpython-312\\mpl_toolkits\\axisartist\n",
            "      copying lib\\mpl_toolkits\\axisartist\\grid_helper_curvelinear.py -> build\\lib.win-amd64-cpython-312\\mpl_toolkits\\axisartist\n",
            "      copying lib\\mpl_toolkits\\axisartist\\parasite_axes.py -> build\\lib.win-amd64-cpython-312\\mpl_toolkits\\axisartist\n",
            "      copying lib\\mpl_toolkits\\axisartist\\__init__.py -> build\\lib.win-amd64-cpython-312\\mpl_toolkits\\axisartist\n",
            "      creating build\\lib.win-amd64-cpython-312\\mpl_toolkits\\mplot3d\n",
            "      copying lib\\mpl_toolkits\\mplot3d\\art3d.py -> build\\lib.win-amd64-cpython-312\\mpl_toolkits\\mplot3d\n",
            "      copying lib\\mpl_toolkits\\mplot3d\\axes3d.py -> build\\lib.win-amd64-cpython-312\\mpl_toolkits\\mplot3d\n",
            "      copying lib\\mpl_toolkits\\mplot3d\\axis3d.py -> build\\lib.win-amd64-cpython-312\\mpl_toolkits\\mplot3d\n",
            "      copying lib\\mpl_toolkits\\mplot3d\\proj3d.py -> build\\lib.win-amd64-cpython-312\\mpl_toolkits\\mplot3d\n",
            "      copying lib\\mpl_toolkits\\mplot3d\\__init__.py -> build\\lib.win-amd64-cpython-312\\mpl_toolkits\\mplot3d\n",
            "      creating build\\lib.win-amd64-cpython-312\\mpl_toolkits\\axes_grid1\\tests\n",
            "      copying lib\\mpl_toolkits\\axes_grid1\\tests\\conftest.py -> build\\lib.win-amd64-cpython-312\\mpl_toolkits\\axes_grid1\\tests\n",
            "      copying lib\\mpl_toolkits\\axes_grid1\\tests\\test_axes_grid1.py -> build\\lib.win-amd64-cpython-312\\mpl_toolkits\\axes_grid1\\tests\n",
            "      copying lib\\mpl_toolkits\\axes_grid1\\tests\\__init__.py -> build\\lib.win-amd64-cpython-312\\mpl_toolkits\\axes_grid1\\tests\n",
            "      creating build\\lib.win-amd64-cpython-312\\mpl_toolkits\\axisartist\\tests\n",
            "      copying lib\\mpl_toolkits\\axisartist\\tests\\conftest.py -> build\\lib.win-amd64-cpython-312\\mpl_toolkits\\axisartist\\tests\n",
            "      copying lib\\mpl_toolkits\\axisartist\\tests\\test_angle_helper.py -> build\\lib.win-amd64-cpython-312\\mpl_toolkits\\axisartist\\tests\n",
            "      copying lib\\mpl_toolkits\\axisartist\\tests\\test_axislines.py -> build\\lib.win-amd64-cpython-312\\mpl_toolkits\\axisartist\\tests\n",
            "      copying lib\\mpl_toolkits\\axisartist\\tests\\test_axis_artist.py -> build\\lib.win-amd64-cpython-312\\mpl_toolkits\\axisartist\\tests\n",
            "      copying lib\\mpl_toolkits\\axisartist\\tests\\test_floating_axes.py -> build\\lib.win-amd64-cpython-312\\mpl_toolkits\\axisartist\\tests\n",
            "      copying lib\\mpl_toolkits\\axisartist\\tests\\test_grid_finder.py -> build\\lib.win-amd64-cpython-312\\mpl_toolkits\\axisartist\\tests\n",
            "      copying lib\\mpl_toolkits\\axisartist\\tests\\test_grid_helper_curvelinear.py -> build\\lib.win-amd64-cpython-312\\mpl_toolkits\\axisartist\\tests\n",
            "      copying lib\\mpl_toolkits\\axisartist\\tests\\__init__.py -> build\\lib.win-amd64-cpython-312\\mpl_toolkits\\axisartist\\tests\n",
            "      creating build\\lib.win-amd64-cpython-312\\mpl_toolkits\\mplot3d\\tests\n",
            "      copying lib\\mpl_toolkits\\mplot3d\\tests\\conftest.py -> build\\lib.win-amd64-cpython-312\\mpl_toolkits\\mplot3d\\tests\n",
            "      copying lib\\mpl_toolkits\\mplot3d\\tests\\test_art3d.py -> build\\lib.win-amd64-cpython-312\\mpl_toolkits\\mplot3d\\tests\n",
            "      copying lib\\mpl_toolkits\\mplot3d\\tests\\test_axes3d.py -> build\\lib.win-amd64-cpython-312\\mpl_toolkits\\mplot3d\\tests\n",
            "      copying lib\\mpl_toolkits\\mplot3d\\tests\\test_legend3d.py -> build\\lib.win-amd64-cpython-312\\mpl_toolkits\\mplot3d\\tests\n",
            "      copying lib\\mpl_toolkits\\mplot3d\\tests\\__init__.py -> build\\lib.win-amd64-cpython-312\\mpl_toolkits\\mplot3d\\tests\n",
            "      creating build\\lib.win-amd64-cpython-312\\matplotlib\\mpl-data\n",
            "      creating build\\lib.win-amd64-cpython-312\\matplotlib\\mpl-data\\images\n",
            "      copying lib\\matplotlib\\mpl-data\\images\\qt4_editor_options_large.png -> build\\lib.win-amd64-cpython-312\\matplotlib\\mpl-data\\images\n",
            "      copying lib\\matplotlib\\mpl-data\\images\\zoom_to_rect.png -> build\\lib.win-amd64-cpython-312\\matplotlib\\mpl-data\\images\n",
            "      creating build\\lib.win-amd64-cpython-312\\matplotlib\\mpl-data\\stylelib\n",
            "      copying lib\\matplotlib\\mpl-data\\stylelib\\bmh.mplstyle -> build\\lib.win-amd64-cpython-312\\matplotlib\\mpl-data\\stylelib\n",
            "      creating build\\lib.win-amd64-cpython-312\\matplotlib\\backends\\web_backend\n",
            "      creating build\\lib.win-amd64-cpython-312\\matplotlib\\backends\\web_backend\\js\n",
            "      copying lib\\matplotlib\\backends\\web_backend\\js\\mpl.js -> build\\lib.win-amd64-cpython-312\\matplotlib\\backends\\web_backend\\js\n",
            "      copying lib\\matplotlib\\mpl-data\\stylelib\\ggplot.mplstyle -> build\\lib.win-amd64-cpython-312\\matplotlib\\mpl-data\\stylelib\n",
            "      copying lib\\matplotlib\\mpl-data\\stylelib\\_classic_test_patch.mplstyle -> build\\lib.win-amd64-cpython-312\\matplotlib\\mpl-data\\stylelib\n",
            "      creating build\\lib.win-amd64-cpython-312\\matplotlib\\mpl-data\\fonts\n",
            "      creating build\\lib.win-amd64-cpython-312\\matplotlib\\mpl-data\\fonts\\afm\n",
            "      copying lib\\matplotlib\\mpl-data\\fonts\\afm\\pbkl8a.afm -> build\\lib.win-amd64-cpython-312\\matplotlib\\mpl-data\\fonts\\afm\n",
            "      copying lib\\matplotlib\\mpl-data\\images\\hand.pdf -> build\\lib.win-amd64-cpython-312\\matplotlib\\mpl-data\\images\n",
            "      copying lib\\matplotlib\\mpl-data\\images\\subplots_large.png -> build\\lib.win-amd64-cpython-312\\matplotlib\\mpl-data\\images\n",
            "      copying lib\\matplotlib\\mpl-data\\fonts\\afm\\phvbo8an.afm -> build\\lib.win-amd64-cpython-312\\matplotlib\\mpl-data\\fonts\\afm\n",
            "      copying lib\\matplotlib\\mpl-data\\images\\move_large.png -> build\\lib.win-amd64-cpython-312\\matplotlib\\mpl-data\\images\n",
            "      copying lib\\matplotlib\\mpl-data\\images\\move.pdf -> build\\lib.win-amd64-cpython-312\\matplotlib\\mpl-data\\images\n",
            "      copying lib\\matplotlib\\mpl-data\\stylelib\\fivethirtyeight.mplstyle -> build\\lib.win-amd64-cpython-312\\matplotlib\\mpl-data\\stylelib\n",
            "      copying lib\\matplotlib\\mpl-data\\fonts\\afm\\phvlo8a.afm -> build\\lib.win-amd64-cpython-312\\matplotlib\\mpl-data\\fonts\\afm\n",
            "      copying lib\\matplotlib\\mpl-data\\fonts\\afm\\pbkd8a.afm -> build\\lib.win-amd64-cpython-312\\matplotlib\\mpl-data\\fonts\\afm\n",
            "      copying lib\\matplotlib\\mpl-data\\stylelib\\classic.mplstyle -> build\\lib.win-amd64-cpython-312\\matplotlib\\mpl-data\\stylelib\n",
            "      creating build\\lib.win-amd64-cpython-312\\matplotlib\\mpl-data\\fonts\\ttf\n",
            "      copying lib\\matplotlib\\mpl-data\\fonts\\ttf\\STIXSizTwoSymBol.ttf -> build\\lib.win-amd64-cpython-312\\matplotlib\\mpl-data\\fonts\\ttf\n",
            "      copying lib\\matplotlib\\mpl-data\\images\\subplots.pdf -> build\\lib.win-amd64-cpython-312\\matplotlib\\mpl-data\\images\n",
            "      creating build\\lib.win-amd64-cpython-312\\matplotlib\\backends\\web_backend\\css\n",
            "      copying lib\\matplotlib\\backends\\web_backend\\css\\fbm.css -> build\\lib.win-amd64-cpython-312\\matplotlib\\backends\\web_backend\\css\n",
            "      copying lib\\matplotlib\\mpl-data\\fonts\\ttf\\STIXSizFiveSymReg.ttf -> build\\lib.win-amd64-cpython-312\\matplotlib\\mpl-data\\fonts\\ttf\n",
            "      creating build\\lib.win-amd64-cpython-312\\matplotlib\\mpl-data\\fonts\\pdfcorefonts\n",
            "      copying lib\\matplotlib\\mpl-data\\fonts\\pdfcorefonts\\Courier-BoldOblique.afm -> build\\lib.win-amd64-cpython-312\\matplotlib\\mpl-data\\fonts\\pdfcorefonts\n",
            "      creating build\\lib.win-amd64-cpython-312\\matplotlib\\mpl-data\\sample_data\n",
            "      copying lib\\matplotlib\\mpl-data\\sample_data\\grace_hopper.jpg -> build\\lib.win-amd64-cpython-312\\matplotlib\\mpl-data\\sample_data\n",
            "      copying lib\\matplotlib\\backends\\web_backend\\package.json -> build\\lib.win-amd64-cpython-312\\matplotlib\\backends\\web_backend\n",
            "      copying lib\\matplotlib\\mpl-data\\fonts\\ttf\\DejaVuSerif.ttf -> build\\lib.win-amd64-cpython-312\\matplotlib\\mpl-data\\fonts\\ttf\n",
            "      copying lib\\matplotlib\\mpl-data\\fonts\\ttf\\STIXGeneralBolIta.ttf -> build\\lib.win-amd64-cpython-312\\matplotlib\\mpl-data\\fonts\\ttf\n",
            "      copying lib\\matplotlib\\mpl-data\\images\\matplotlib.png -> build\\lib.win-amd64-cpython-312\\matplotlib\\mpl-data\\images\n",
            "      copying lib\\matplotlib\\mpl-data\\fonts\\ttf\\STIXSizThreeSymBol.ttf -> build\\lib.win-amd64-cpython-312\\matplotlib\\mpl-data\\fonts\\ttf\n",
            "      copying lib\\matplotlib\\backends\\web_backend\\js\\nbagg_mpl.js -> build\\lib.win-amd64-cpython-312\\matplotlib\\backends\\web_backend\\js\n",
            "      copying lib\\matplotlib\\mpl-data\\images\\qt4_editor_options.pdf -> build\\lib.win-amd64-cpython-312\\matplotlib\\mpl-data\\images\n",
            "      copying lib\\matplotlib\\mpl-data\\fonts\\pdfcorefonts\\Times-Roman.afm -> build\\lib.win-amd64-cpython-312\\matplotlib\\mpl-data\\fonts\\pdfcorefonts\n",
            "      copying lib\\matplotlib\\mpl-data\\stylelib\\seaborn-v0_8-talk.mplstyle -> build\\lib.win-amd64-cpython-312\\matplotlib\\mpl-data\\stylelib\n",
            "      copying lib\\matplotlib\\mpl-data\\fonts\\afm\\pplr8a.afm -> build\\lib.win-amd64-cpython-312\\matplotlib\\mpl-data\\fonts\\afm\n",
            "      copying lib\\matplotlib\\mpl-data\\images\\forward.pdf -> build\\lib.win-amd64-cpython-312\\matplotlib\\mpl-data\\images\n",
            "      copying lib\\matplotlib\\mpl-data\\stylelib\\_mpl-gallery.mplstyle -> build\\lib.win-amd64-cpython-312\\matplotlib\\mpl-data\\stylelib\n",
            "      copying lib\\matplotlib\\mpl-data\\fonts\\ttf\\cmmi10.ttf -> build\\lib.win-amd64-cpython-312\\matplotlib\\mpl-data\\fonts\\ttf\n",
            "      copying lib\\matplotlib\\mpl-data\\images\\filesave_large.png -> build\\lib.win-amd64-cpython-312\\matplotlib\\mpl-data\\images\n",
            "      copying lib\\matplotlib\\mpl-data\\fonts\\ttf\\cmr10.ttf -> build\\lib.win-amd64-cpython-312\\matplotlib\\mpl-data\\fonts\\ttf\n",
            "      copying lib\\matplotlib\\mpl-data\\kpsewhich.lua -> build\\lib.win-amd64-cpython-312\\matplotlib\\mpl-data\n",
            "      copying lib\\matplotlib\\mpl-data\\stylelib\\seaborn-v0_8-deep.mplstyle -> build\\lib.win-amd64-cpython-312\\matplotlib\\mpl-data\\stylelib\n",
            "      copying lib\\matplotlib\\mpl-data\\fonts\\ttf\\DejaVuSans-Oblique.ttf -> build\\lib.win-amd64-cpython-312\\matplotlib\\mpl-data\\fonts\\ttf\n",
            "      copying lib\\matplotlib\\mpl-data\\fonts\\ttf\\LICENSE_DEJAVU -> build\\lib.win-amd64-cpython-312\\matplotlib\\mpl-data\\fonts\\ttf\n",
            "      copying lib\\matplotlib\\backends\\web_backend\\ipython_inline_figure.html -> build\\lib.win-amd64-cpython-312\\matplotlib\\backends\\web_backend\n",
            "      copying lib\\matplotlib\\mpl-data\\images\\forward.png -> build\\lib.win-amd64-cpython-312\\matplotlib\\mpl-data\\images\n",
            "      copying lib\\matplotlib\\mpl-data\\fonts\\ttf\\STIXNonUniBolIta.ttf -> build\\lib.win-amd64-cpython-312\\matplotlib\\mpl-data\\fonts\\ttf\n",
            "      copying lib\\matplotlib\\mpl-data\\fonts\\afm\\pzcmi8a.afm -> build\\lib.win-amd64-cpython-312\\matplotlib\\mpl-data\\fonts\\afm\n",
            "      copying lib\\matplotlib\\mpl-data\\fonts\\ttf\\DejaVuSansMono-Bold.ttf -> build\\lib.win-amd64-cpython-312\\matplotlib\\mpl-data\\fonts\\ttf\n",
            "      copying lib\\matplotlib\\mpl-data\\fonts\\afm\\pplbi8a.afm -> build\\lib.win-amd64-cpython-312\\matplotlib\\mpl-data\\fonts\\afm\n",
            "      copying lib\\matplotlib\\mpl-data\\stylelib\\seaborn-v0_8-pastel.mplstyle -> build\\lib.win-amd64-cpython-312\\matplotlib\\mpl-data\\stylelib\n",
            "      copying lib\\matplotlib\\mpl-data\\images\\zoom_to_rect-symbolic.svg -> build\\lib.win-amd64-cpython-312\\matplotlib\\mpl-data\\images\n",
            "      creating build\\lib.win-amd64-cpython-312\\matplotlib\\mpl-data\\sample_data\\axes_grid\n",
            "      copying lib\\matplotlib\\mpl-data\\sample_data\\axes_grid\\bivariate_normal.npy -> build\\lib.win-amd64-cpython-312\\matplotlib\\mpl-data\\sample_data\\axes_grid\n",
            "      copying lib\\matplotlib\\mpl-data\\fonts\\afm\\cmsy10.afm -> build\\lib.win-amd64-cpython-312\\matplotlib\\mpl-data\\fonts\\afm\n",
            "      copying lib\\matplotlib\\mpl-data\\fonts\\afm\\cmtt10.afm -> build\\lib.win-amd64-cpython-312\\matplotlib\\mpl-data\\fonts\\afm\n",
            "      copying lib\\matplotlib\\mpl-data\\fonts\\afm\\pncr8a.afm -> build\\lib.win-amd64-cpython-312\\matplotlib\\mpl-data\\fonts\\afm\n",
            "      copying lib\\matplotlib\\mpl-data\\fonts\\afm\\pagk8a.afm -> build\\lib.win-amd64-cpython-312\\matplotlib\\mpl-data\\fonts\\afm\n",
            "      copying lib\\matplotlib\\mpl-data\\fonts\\afm\\pcrr8a.afm -> build\\lib.win-amd64-cpython-312\\matplotlib\\mpl-data\\fonts\\afm\n",
            "      copying lib\\matplotlib\\mpl-data\\images\\move.png -> build\\lib.win-amd64-cpython-312\\matplotlib\\mpl-data\\images\n",
            "      copying lib\\matplotlib\\mpl-data\\images\\forward_large.png -> build\\lib.win-amd64-cpython-312\\matplotlib\\mpl-data\\images\n",
            "      copying lib\\matplotlib\\mpl-data\\sample_data\\eeg.dat -> build\\lib.win-amd64-cpython-312\\matplotlib\\mpl-data\\sample_data\n",
            "      copying lib\\matplotlib\\mpl-data\\fonts\\ttf\\DejaVuSans.ttf -> build\\lib.win-amd64-cpython-312\\matplotlib\\mpl-data\\fonts\\ttf\n",
            "      copying lib\\matplotlib\\mpl-data\\images\\help.svg -> build\\lib.win-amd64-cpython-312\\matplotlib\\mpl-data\\images\n",
            "      copying lib\\matplotlib\\mpl-data\\stylelib\\seaborn-v0_8-poster.mplstyle -> build\\lib.win-amd64-cpython-312\\matplotlib\\mpl-data\\stylelib\n",
            "      copying lib\\matplotlib\\mpl-data\\fonts\\afm\\pzdr.afm -> build\\lib.win-amd64-cpython-312\\matplotlib\\mpl-data\\fonts\\afm\n",
            "      copying lib\\matplotlib\\backends\\web_backend\\all_figures.html -> build\\lib.win-amd64-cpython-312\\matplotlib\\backends\\web_backend\n",
            "      copying lib\\matplotlib\\mpl-data\\fonts\\afm\\pcrro8a.afm -> build\\lib.win-amd64-cpython-312\\matplotlib\\mpl-data\\fonts\\afm\n",
            "      copying lib\\matplotlib\\mpl-data\\fonts\\afm\\phvro8a.afm -> build\\lib.win-amd64-cpython-312\\matplotlib\\mpl-data\\fonts\\afm\n",
            "      copying lib\\matplotlib\\mpl-data\\fonts\\afm\\phvro8an.afm -> build\\lib.win-amd64-cpython-312\\matplotlib\\mpl-data\\fonts\\afm\n",
            "      copying lib\\matplotlib\\mpl-data\\fonts\\pdfcorefonts\\Courier-Oblique.afm -> build\\lib.win-amd64-cpython-312\\matplotlib\\mpl-data\\fonts\\pdfcorefonts\n",
            "      copying lib\\matplotlib\\mpl-data\\images\\matplotlib_large.png -> build\\lib.win-amd64-cpython-312\\matplotlib\\mpl-data\\images\n",
            "      copying lib\\matplotlib\\mpl-data\\fonts\\ttf\\DejaVuSerif-Italic.ttf -> build\\lib.win-amd64-cpython-312\\matplotlib\\mpl-data\\fonts\\ttf\n",
            "      copying lib\\matplotlib\\mpl-data\\fonts\\pdfcorefonts\\Courier-Bold.afm -> build\\lib.win-amd64-cpython-312\\matplotlib\\mpl-data\\fonts\\pdfcorefonts\n",
            "      copying lib\\matplotlib\\mpl-data\\fonts\\ttf\\cmss10.ttf -> build\\lib.win-amd64-cpython-312\\matplotlib\\mpl-data\\fonts\\ttf\n",
            "      copying lib\\matplotlib\\mpl-data\\fonts\\pdfcorefonts\\Times-BoldItalic.afm -> build\\lib.win-amd64-cpython-312\\matplotlib\\mpl-data\\fonts\\pdfcorefonts\n",
            "      copying lib\\matplotlib\\mpl-data\\fonts\\ttf\\STIXSizTwoSymReg.ttf -> build\\lib.win-amd64-cpython-312\\matplotlib\\mpl-data\\fonts\\ttf\n",
            "      copying lib\\matplotlib\\mpl-data\\sample_data\\percent_bachelors_degrees_women_usa.csv -> build\\lib.win-amd64-cpython-312\\matplotlib\\mpl-data\\sample_data\n",
            "      copying lib\\matplotlib\\mpl-data\\sample_data\\msft.csv -> build\\lib.win-amd64-cpython-312\\matplotlib\\mpl-data\\sample_data\n",
            "      copying lib\\matplotlib\\mpl-data\\fonts\\afm\\ptmri8a.afm -> build\\lib.win-amd64-cpython-312\\matplotlib\\mpl-data\\fonts\\afm\n",
            "      copying lib\\matplotlib\\mpl-data\\images\\home_large.png -> build\\lib.win-amd64-cpython-312\\matplotlib\\mpl-data\\images\n",
            "      copying lib\\matplotlib\\mpl-data\\images\\home-symbolic.svg -> build\\lib.win-amd64-cpython-312\\matplotlib\\mpl-data\\images\n",
            "      copying lib\\matplotlib\\mpl-data\\fonts\\pdfcorefonts\\ZapfDingbats.afm -> build\\lib.win-amd64-cpython-312\\matplotlib\\mpl-data\\fonts\\pdfcorefonts\n",
            "      copying lib\\matplotlib\\mpl-data\\sample_data\\membrane.dat -> build\\lib.win-amd64-cpython-312\\matplotlib\\mpl-data\\sample_data\n",
            "      copying lib\\matplotlib\\mpl-data\\fonts\\ttf\\STIXSizFourSymReg.ttf -> build\\lib.win-amd64-cpython-312\\matplotlib\\mpl-data\\fonts\\ttf\n",
            "      copying lib\\matplotlib\\mpl-data\\images\\home.pdf -> build\\lib.win-amd64-cpython-312\\matplotlib\\mpl-data\\images\n",
            "      copying lib\\matplotlib\\mpl-data\\fonts\\pdfcorefonts\\Helvetica.afm -> build\\lib.win-amd64-cpython-312\\matplotlib\\mpl-data\\fonts\\pdfcorefonts\n",
            "      copying lib\\matplotlib\\mpl-data\\fonts\\afm\\pplri8a.afm -> build\\lib.win-amd64-cpython-312\\matplotlib\\mpl-data\\fonts\\afm\n",
            "      copying lib\\matplotlib\\backends\\web_backend\\css\\page.css -> build\\lib.win-amd64-cpython-312\\matplotlib\\backends\\web_backend\\css\n",
            "      copying lib\\matplotlib\\mpl-data\\stylelib\\seaborn-v0_8-white.mplstyle -> build\\lib.win-amd64-cpython-312\\matplotlib\\mpl-data\\stylelib\n",
            "      copying lib\\matplotlib\\mpl-data\\images\\matplotlib.pdf -> build\\lib.win-amd64-cpython-312\\matplotlib\\mpl-data\\images\n",
            "      copying lib\\matplotlib\\mpl-data\\fonts\\afm\\putbi8a.afm -> build\\lib.win-amd64-cpython-312\\matplotlib\\mpl-data\\fonts\\afm\n",
            "      copying lib\\matplotlib\\mpl-data\\fonts\\afm\\pagko8a.afm -> build\\lib.win-amd64-cpython-312\\matplotlib\\mpl-data\\fonts\\afm\n",
            "      copying lib\\matplotlib\\mpl-data\\fonts\\afm\\pncbi8a.afm -> build\\lib.win-amd64-cpython-312\\matplotlib\\mpl-data\\fonts\\afm\n",
            "      copying lib\\matplotlib\\mpl-data\\fonts\\afm\\putri8a.afm -> build\\lib.win-amd64-cpython-312\\matplotlib\\mpl-data\\fonts\\afm\n",
            "      copying lib\\matplotlib\\mpl-data\\stylelib\\dark_background.mplstyle -> build\\lib.win-amd64-cpython-312\\matplotlib\\mpl-data\\stylelib\n",
            "      copying lib\\matplotlib\\mpl-data\\images\\back.svg -> build\\lib.win-amd64-cpython-312\\matplotlib\\mpl-data\\images\n",
            "      copying lib\\matplotlib\\mpl-data\\stylelib\\seaborn-v0_8-muted.mplstyle -> build\\lib.win-amd64-cpython-312\\matplotlib\\mpl-data\\stylelib\n",
            "      copying lib\\matplotlib\\mpl-data\\images\\filesave-symbolic.svg -> build\\lib.win-amd64-cpython-312\\matplotlib\\mpl-data\\images\n",
            "      copying lib\\matplotlib\\mpl-data\\stylelib\\seaborn-v0_8-ticks.mplstyle -> build\\lib.win-amd64-cpython-312\\matplotlib\\mpl-data\\stylelib\n",
            "      copying lib\\matplotlib\\mpl-data\\fonts\\afm\\phvl8a.afm -> build\\lib.win-amd64-cpython-312\\matplotlib\\mpl-data\\fonts\\afm\n",
            "      copying lib\\matplotlib\\mpl-data\\stylelib\\seaborn-v0_8-dark-palette.mplstyle -> build\\lib.win-amd64-cpython-312\\matplotlib\\mpl-data\\stylelib\n",
            "      copying lib\\matplotlib\\mpl-data\\fonts\\afm\\phvr8a.afm -> build\\lib.win-amd64-cpython-312\\matplotlib\\mpl-data\\fonts\\afm\n",
            "      copying lib\\matplotlib\\mpl-data\\fonts\\afm\\cmex10.afm -> build\\lib.win-amd64-cpython-312\\matplotlib\\mpl-data\\fonts\\afm\n",
            "      copying lib\\matplotlib\\mpl-data\\fonts\\ttf\\cmsy10.ttf -> build\\lib.win-amd64-cpython-312\\matplotlib\\mpl-data\\fonts\\ttf\n",
            "      copying lib\\matplotlib\\mpl-data\\sample_data\\README.txt -> build\\lib.win-amd64-cpython-312\\matplotlib\\mpl-data\\sample_data\n",
            "      copying lib\\matplotlib\\mpl-data\\fonts\\ttf\\cmtt10.ttf -> build\\lib.win-amd64-cpython-312\\matplotlib\\mpl-data\\fonts\\ttf\n",
            "      copying lib\\matplotlib\\mpl-data\\fonts\\ttf\\STIXSizOneSymReg.ttf -> build\\lib.win-amd64-cpython-312\\matplotlib\\mpl-data\\fonts\\ttf\n",
            "      copying lib\\matplotlib\\mpl-data\\fonts\\afm\\cmr10.afm -> build\\lib.win-amd64-cpython-312\\matplotlib\\mpl-data\\fonts\\afm\n",
            "      copying lib\\matplotlib\\mpl-data\\fonts\\ttf\\STIXNonUniIta.ttf -> build\\lib.win-amd64-cpython-312\\matplotlib\\mpl-data\\fonts\\ttf\n",
            "      copying lib\\matplotlib\\mpl-data\\fonts\\afm\\phvb8a.afm -> build\\lib.win-amd64-cpython-312\\matplotlib\\mpl-data\\fonts\\afm\n",
            "      copying lib\\matplotlib\\backends\\web_backend\\nbagg_uat.ipynb -> build\\lib.win-amd64-cpython-312\\matplotlib\\backends\\web_backend\n",
            "      copying lib\\matplotlib\\mpl-data\\fonts\\afm\\putb8a.afm -> build\\lib.win-amd64-cpython-312\\matplotlib\\mpl-data\\fonts\\afm\n",
            "      copying lib\\matplotlib\\mpl-data\\stylelib\\seaborn-v0_8-bright.mplstyle -> build\\lib.win-amd64-cpython-312\\matplotlib\\mpl-data\\stylelib\n",
            "      copying lib\\matplotlib\\mpl-data\\fonts\\ttf\\STIXNonUniBol.ttf -> build\\lib.win-amd64-cpython-312\\matplotlib\\mpl-data\\fonts\\ttf\n",
            "      copying lib\\matplotlib\\mpl-data\\stylelib\\_mpl-gallery-nogrid.mplstyle -> build\\lib.win-amd64-cpython-312\\matplotlib\\mpl-data\\stylelib\n",
            "      copying lib\\matplotlib\\mpl-data\\fonts\\afm\\pncb8a.afm -> build\\lib.win-amd64-cpython-312\\matplotlib\\mpl-data\\fonts\\afm\n",
            "      copying lib\\matplotlib\\mpl-data\\fonts\\afm\\pcrb8a.afm -> build\\lib.win-amd64-cpython-312\\matplotlib\\mpl-data\\fonts\\afm\n",
            "      copying lib\\matplotlib\\mpl-data\\sample_data\\embedding_in_wx3.xrc -> build\\lib.win-amd64-cpython-312\\matplotlib\\mpl-data\\sample_data\n",
            "      copying lib\\matplotlib\\mpl-data\\fonts\\ttf\\STIXGeneralBol.ttf -> build\\lib.win-amd64-cpython-312\\matplotlib\\mpl-data\\fonts\\ttf\n",
            "      copying lib\\matplotlib\\mpl-data\\fonts\\ttf\\DejaVuSerif-Bold.ttf -> build\\lib.win-amd64-cpython-312\\matplotlib\\mpl-data\\fonts\\ttf\n",
            "      copying lib\\matplotlib\\mpl-data\\images\\forward-symbolic.svg -> build\\lib.win-amd64-cpython-312\\matplotlib\\mpl-data\\images\n",
            "      copying lib\\matplotlib\\mpl-data\\images\\help_large.png -> build\\lib.win-amd64-cpython-312\\matplotlib\\mpl-data\\images\n",
            "      copying lib\\matplotlib\\mpl-data\\fonts\\pdfcorefonts\\Helvetica-BoldOblique.afm -> build\\lib.win-amd64-cpython-312\\matplotlib\\mpl-data\\fonts\\pdfcorefonts\n",
            "      creating build\\lib.win-amd64-cpython-312\\matplotlib\\mpl-data\\plot_directive\n",
            "      copying lib\\matplotlib\\mpl-data\\plot_directive\\plot_directive.css -> build\\lib.win-amd64-cpython-312\\matplotlib\\mpl-data\\plot_directive\n",
            "      copying lib\\matplotlib\\mpl-data\\images\\move.svg -> build\\lib.win-amd64-cpython-312\\matplotlib\\mpl-data\\images\n",
            "      copying lib\\matplotlib\\mpl-data\\images\\zoom_to_rect.svg -> build\\lib.win-amd64-cpython-312\\matplotlib\\mpl-data\\images\n",
            "      copying lib\\matplotlib\\mpl-data\\sample_data\\logo2.png -> build\\lib.win-amd64-cpython-312\\matplotlib\\mpl-data\\sample_data\n",
            "      copying lib\\matplotlib\\mpl-data\\fonts\\ttf\\STIXGeneralItalic.ttf -> build\\lib.win-amd64-cpython-312\\matplotlib\\mpl-data\\fonts\\ttf\n",
            "      copying lib\\matplotlib\\mpl-data\\stylelib\\seaborn-v0_8-dark.mplstyle -> build\\lib.win-amd64-cpython-312\\matplotlib\\mpl-data\\stylelib\n",
            "      copying lib\\matplotlib\\mpl-data\\images\\qt4_editor_options.png -> build\\lib.win-amd64-cpython-312\\matplotlib\\mpl-data\\images\n",
            "      copying lib\\matplotlib\\mpl-data\\images\\subplots.png -> build\\lib.win-amd64-cpython-312\\matplotlib\\mpl-data\\images\n",
            "      copying lib\\matplotlib\\mpl-data\\sample_data\\Stocks.csv -> build\\lib.win-amd64-cpython-312\\matplotlib\\mpl-data\\sample_data\n",
            "      copying lib\\matplotlib\\mpl-data\\fonts\\afm\\phvr8an.afm -> build\\lib.win-amd64-cpython-312\\matplotlib\\mpl-data\\fonts\\afm\n",
            "      copying lib\\matplotlib\\mpl-data\\fonts\\ttf\\DejaVuSansMono.ttf -> build\\lib.win-amd64-cpython-312\\matplotlib\\mpl-data\\fonts\\ttf\n",
            "      copying lib\\matplotlib\\mpl-data\\fonts\\afm\\ptmb8a.afm -> build\\lib.win-amd64-cpython-312\\matplotlib\\mpl-data\\fonts\\afm\n",
            "      copying lib\\matplotlib\\mpl-data\\fonts\\afm\\pagd8a.afm -> build\\lib.win-amd64-cpython-312\\matplotlib\\mpl-data\\fonts\\afm\n",
            "      copying lib\\matplotlib\\mpl-data\\images\\help.pdf -> build\\lib.win-amd64-cpython-312\\matplotlib\\mpl-data\\images\n",
            "      copying lib\\matplotlib\\mpl-data\\fonts\\ttf\\cmb10.ttf -> build\\lib.win-amd64-cpython-312\\matplotlib\\mpl-data\\fonts\\ttf\n",
            "      copying lib\\matplotlib\\mpl-data\\images\\qt4_editor_options.svg -> build\\lib.win-amd64-cpython-312\\matplotlib\\mpl-data\\images\n",
            "      copying lib\\matplotlib\\mpl-data\\fonts\\afm\\phvbo8a.afm -> build\\lib.win-amd64-cpython-312\\matplotlib\\mpl-data\\fonts\\afm\n",
            "      copying lib\\matplotlib\\mpl-data\\sample_data\\Minduka_Present_Blue_Pack.png -> build\\lib.win-amd64-cpython-312\\matplotlib\\mpl-data\\sample_data\n",
            "      copying lib\\matplotlib\\mpl-data\\fonts\\ttf\\DejaVuSansMono-BoldOblique.ttf -> build\\lib.win-amd64-cpython-312\\matplotlib\\mpl-data\\fonts\\ttf\n",
            "      copying lib\\matplotlib\\mpl-data\\images\\back.png -> build\\lib.win-amd64-cpython-312\\matplotlib\\mpl-data\\images\n",
            "      copying lib\\matplotlib\\mpl-data\\images\\help-symbolic.svg -> build\\lib.win-amd64-cpython-312\\matplotlib\\mpl-data\\images\n",
            "      copying lib\\matplotlib\\mpl-data\\fonts\\pdfcorefonts\\readme.txt -> build\\lib.win-amd64-cpython-312\\matplotlib\\mpl-data\\fonts\\pdfcorefonts\n",
            "      copying lib\\matplotlib\\mpl-data\\images\\hand.svg -> build\\lib.win-amd64-cpython-312\\matplotlib\\mpl-data\\images\n",
            "      copying lib\\matplotlib\\mpl-data\\sample_data\\goog.npz -> build\\lib.win-amd64-cpython-312\\matplotlib\\mpl-data\\sample_data\n",
            "      copying lib\\matplotlib\\mpl-data\\fonts\\ttf\\DejaVuSans-BoldOblique.ttf -> build\\lib.win-amd64-cpython-312\\matplotlib\\mpl-data\\fonts\\ttf\n",
            "      copying lib\\matplotlib\\mpl-data\\images\\filesave.png -> build\\lib.win-amd64-cpython-312\\matplotlib\\mpl-data\\images\n",
            "      copying lib\\matplotlib\\backends\\web_backend\\single_figure.html -> build\\lib.win-amd64-cpython-312\\matplotlib\\backends\\web_backend\n",
            "      copying lib\\matplotlib\\mpl-data\\images\\hand.png -> build\\lib.win-amd64-cpython-312\\matplotlib\\mpl-data\\images\n",
            "      copying lib\\matplotlib\\mpl-data\\stylelib\\seaborn-v0_8-colorblind.mplstyle -> build\\lib.win-amd64-cpython-312\\matplotlib\\mpl-data\\stylelib\n",
            "      copying lib\\matplotlib\\mpl-data\\stylelib\\seaborn-v0_8-whitegrid.mplstyle -> build\\lib.win-amd64-cpython-312\\matplotlib\\mpl-data\\stylelib\n",
            "      copying lib\\matplotlib\\mpl-data\\stylelib\\tableau-colorblind10.mplstyle -> build\\lib.win-amd64-cpython-312\\matplotlib\\mpl-data\\stylelib\n",
            "      copying lib\\matplotlib\\mpl-data\\fonts\\pdfcorefonts\\Helvetica-Bold.afm -> build\\lib.win-amd64-cpython-312\\matplotlib\\mpl-data\\fonts\\pdfcorefonts\n",
            "      copying lib\\matplotlib\\mpl-data\\fonts\\afm\\pplb8a.afm -> build\\lib.win-amd64-cpython-312\\matplotlib\\mpl-data\\fonts\\afm\n",
            "      copying lib\\matplotlib\\mpl-data\\fonts\\ttf\\DejaVuSerif-BoldItalic.ttf -> build\\lib.win-amd64-cpython-312\\matplotlib\\mpl-data\\fonts\\ttf\n",
            "      copying lib\\matplotlib\\mpl-data\\fonts\\afm\\putr8a.afm -> build\\lib.win-amd64-cpython-312\\matplotlib\\mpl-data\\fonts\\afm\n",
            "      copying lib\\matplotlib\\mpl-data\\images\\help.png -> build\\lib.win-amd64-cpython-312\\matplotlib\\mpl-data\\images\n",
            "      copying lib\\matplotlib\\mpl-data\\images\\matplotlib.svg -> build\\lib.win-amd64-cpython-312\\matplotlib\\mpl-data\\images\n",
            "      copying lib\\matplotlib\\mpl-data\\fonts\\afm\\phvb8an.afm -> build\\lib.win-amd64-cpython-312\\matplotlib\\mpl-data\\fonts\\afm\n",
            "      copying lib\\matplotlib\\mpl-data\\fonts\\ttf\\STIXSizFourSymBol.ttf -> build\\lib.win-amd64-cpython-312\\matplotlib\\mpl-data\\fonts\\ttf\n",
            "      copying lib\\matplotlib\\mpl-data\\images\\filesave.svg -> build\\lib.win-amd64-cpython-312\\matplotlib\\mpl-data\\images\n",
            "      copying lib\\matplotlib\\mpl-data\\fonts\\ttf\\STIXGeneral.ttf -> build\\lib.win-amd64-cpython-312\\matplotlib\\mpl-data\\fonts\\ttf\n",
            "      copying lib\\matplotlib\\backends\\web_backend\\css\\mpl.css -> build\\lib.win-amd64-cpython-312\\matplotlib\\backends\\web_backend\\css\n",
            "      copying lib\\matplotlib\\mpl-data\\matplotlibrc -> build\\lib.win-amd64-cpython-312\\matplotlib\\mpl-data\n",
            "      copying lib\\matplotlib\\mpl-data\\images\\move-symbolic.svg -> build\\lib.win-amd64-cpython-312\\matplotlib\\mpl-data\\images\n",
            "      copying lib\\matplotlib\\mpl-data\\fonts\\ttf\\cmex10.ttf -> build\\lib.win-amd64-cpython-312\\matplotlib\\mpl-data\\fonts\\ttf\n",
            "      copying lib\\matplotlib\\mpl-data\\fonts\\ttf\\DejaVuSerifDisplay.ttf -> build\\lib.win-amd64-cpython-312\\matplotlib\\mpl-data\\fonts\\ttf\n",
            "      copying lib\\matplotlib\\mpl-data\\sample_data\\data_x_x2_x3.csv -> build\\lib.win-amd64-cpython-312\\matplotlib\\mpl-data\\sample_data\n",
            "      copying lib\\matplotlib\\mpl-data\\fonts\\afm\\pbkdi8a.afm -> build\\lib.win-amd64-cpython-312\\matplotlib\\mpl-data\\fonts\\afm\n",
            "      copying lib\\matplotlib\\backends\\web_backend\\js\\mpl_tornado.js -> build\\lib.win-amd64-cpython-312\\matplotlib\\backends\\web_backend\\js\n",
            "      copying lib\\matplotlib\\mpl-data\\fonts\\pdfcorefonts\\Courier.afm -> build\\lib.win-amd64-cpython-312\\matplotlib\\mpl-data\\fonts\\pdfcorefonts\n",
            "      copying lib\\matplotlib\\mpl-data\\images\\filesave.pdf -> build\\lib.win-amd64-cpython-312\\matplotlib\\mpl-data\\images\n",
            "      copying lib\\matplotlib\\mpl-data\\fonts\\ttf\\STIXSizThreeSymReg.ttf -> build\\lib.win-amd64-cpython-312\\matplotlib\\mpl-data\\fonts\\ttf\n",
            "      copying lib\\matplotlib\\backends\\web_backend\\.prettierignore -> build\\lib.win-amd64-cpython-312\\matplotlib\\backends\\web_backend\n",
            "      copying lib\\matplotlib\\backends\\web_backend\\.eslintrc.js -> build\\lib.win-amd64-cpython-312\\matplotlib\\backends\\web_backend\n",
            "      copying lib\\matplotlib\\mpl-data\\images\\back_large.png -> build\\lib.win-amd64-cpython-312\\matplotlib\\mpl-data\\images\n",
            "      copying lib\\matplotlib\\mpl-data\\fonts\\afm\\psyr.afm -> build\\lib.win-amd64-cpython-312\\matplotlib\\mpl-data\\fonts\\afm\n",
            "      copying lib\\matplotlib\\mpl-data\\stylelib\\seaborn-v0_8-notebook.mplstyle -> build\\lib.win-amd64-cpython-312\\matplotlib\\mpl-data\\stylelib\n",
            "      copying lib\\matplotlib\\mpl-data\\fonts\\afm\\pbkli8a.afm -> build\\lib.win-amd64-cpython-312\\matplotlib\\mpl-data\\fonts\\afm\n",
            "      copying lib\\matplotlib\\mpl-data\\stylelib\\fast.mplstyle -> build\\lib.win-amd64-cpython-312\\matplotlib\\mpl-data\\stylelib\n",
            "      copying lib\\matplotlib\\mpl-data\\fonts\\ttf\\LICENSE_STIX -> build\\lib.win-amd64-cpython-312\\matplotlib\\mpl-data\\fonts\\ttf\n",
            "      copying lib\\matplotlib\\mpl-data\\stylelib\\Solarize_Light2.mplstyle -> build\\lib.win-amd64-cpython-312\\matplotlib\\mpl-data\\stylelib\n",
            "      copying lib\\matplotlib\\mpl-data\\images\\subplots.svg -> build\\lib.win-amd64-cpython-312\\matplotlib\\mpl-data\\images\n",
            "      copying lib\\matplotlib\\mpl-data\\images\\home.png -> build\\lib.win-amd64-cpython-312\\matplotlib\\mpl-data\\images\n",
            "      copying lib\\matplotlib\\mpl-data\\fonts\\afm\\pcrbo8a.afm -> build\\lib.win-amd64-cpython-312\\matplotlib\\mpl-data\\fonts\\afm\n",
            "      copying lib\\matplotlib\\mpl-data\\fonts\\ttf\\DejaVuSansDisplay.ttf -> build\\lib.win-amd64-cpython-312\\matplotlib\\mpl-data\\fonts\\ttf\n",
            "      copying lib\\matplotlib\\mpl-data\\fonts\\ttf\\DejaVuSansMono-Oblique.ttf -> build\\lib.win-amd64-cpython-312\\matplotlib\\mpl-data\\fonts\\ttf\n",
            "      copying lib\\matplotlib\\mpl-data\\sample_data\\s1045.ima.gz -> build\\lib.win-amd64-cpython-312\\matplotlib\\mpl-data\\sample_data\n",
            "      copying lib\\matplotlib\\mpl-data\\fonts\\afm\\ptmbi8a.afm -> build\\lib.win-amd64-cpython-312\\matplotlib\\mpl-data\\fonts\\afm\n",
            "      copying lib\\matplotlib\\mpl-data\\images\\forward.svg -> build\\lib.win-amd64-cpython-312\\matplotlib\\mpl-data\\images\n",
            "      copying lib\\matplotlib\\mpl-data\\images\\back.pdf -> build\\lib.win-amd64-cpython-312\\matplotlib\\mpl-data\\images\n",
            "      copying lib\\matplotlib\\mpl-data\\stylelib\\seaborn-v0_8-paper.mplstyle -> build\\lib.win-amd64-cpython-312\\matplotlib\\mpl-data\\stylelib\n",
            "      copying lib\\matplotlib\\backends\\web_backend\\.prettierrc -> build\\lib.win-amd64-cpython-312\\matplotlib\\backends\\web_backend\n",
            "      copying lib\\matplotlib\\mpl-data\\fonts\\ttf\\STIXNonUni.ttf -> build\\lib.win-amd64-cpython-312\\matplotlib\\mpl-data\\fonts\\ttf\n",
            "      copying lib\\matplotlib\\mpl-data\\fonts\\afm\\pagdo8a.afm -> build\\lib.win-amd64-cpython-312\\matplotlib\\mpl-data\\fonts\\afm\n",
            "      copying lib\\matplotlib\\mpl-data\\fonts\\pdfcorefonts\\Times-Italic.afm -> build\\lib.win-amd64-cpython-312\\matplotlib\\mpl-data\\fonts\\pdfcorefonts\n",
            "      copying lib\\matplotlib\\mpl-data\\fonts\\afm\\pncri8a.afm -> build\\lib.win-amd64-cpython-312\\matplotlib\\mpl-data\\fonts\\afm\n",
            "      copying lib\\matplotlib\\mpl-data\\stylelib\\grayscale.mplstyle -> build\\lib.win-amd64-cpython-312\\matplotlib\\mpl-data\\stylelib\n",
            "      copying lib\\matplotlib\\mpl-data\\images\\home.svg -> build\\lib.win-amd64-cpython-312\\matplotlib\\mpl-data\\images\n",
            "      copying lib\\matplotlib\\mpl-data\\images\\zoom_to_rect.pdf -> build\\lib.win-amd64-cpython-312\\matplotlib\\mpl-data\\images\n",
            "      copying lib\\matplotlib\\mpl-data\\stylelib\\seaborn-v0_8-darkgrid.mplstyle -> build\\lib.win-amd64-cpython-312\\matplotlib\\mpl-data\\stylelib\n",
            "      copying lib\\matplotlib\\mpl-data\\fonts\\pdfcorefonts\\Times-Bold.afm -> build\\lib.win-amd64-cpython-312\\matplotlib\\mpl-data\\fonts\\pdfcorefonts\n",
            "      copying lib\\matplotlib\\mpl-data\\sample_data\\jacksboro_fault_dem.npz -> build\\lib.win-amd64-cpython-312\\matplotlib\\mpl-data\\sample_data\n",
            "      copying lib\\matplotlib\\mpl-data\\fonts\\ttf\\STIXSizOneSymBol.ttf -> build\\lib.win-amd64-cpython-312\\matplotlib\\mpl-data\\fonts\\ttf\n",
            "      copying lib\\matplotlib\\mpl-data\\images\\back-symbolic.svg -> build\\lib.win-amd64-cpython-312\\matplotlib\\mpl-data\\images\n",
            "      copying lib\\matplotlib\\mpl-data\\images\\zoom_to_rect_large.png -> build\\lib.win-amd64-cpython-312\\matplotlib\\mpl-data\\images\n",
            "      copying lib\\matplotlib\\mpl-data\\sample_data\\topobathy.npz -> build\\lib.win-amd64-cpython-312\\matplotlib\\mpl-data\\sample_data\n",
            "      copying lib\\matplotlib\\mpl-data\\fonts\\afm\\cmmi10.afm -> build\\lib.win-amd64-cpython-312\\matplotlib\\mpl-data\\fonts\\afm\n",
            "      copying lib\\matplotlib\\mpl-data\\images\\subplots-symbolic.svg -> build\\lib.win-amd64-cpython-312\\matplotlib\\mpl-data\\images\n",
            "      copying lib\\matplotlib\\mpl-data\\fonts\\afm\\ptmr8a.afm -> build\\lib.win-amd64-cpython-312\\matplotlib\\mpl-data\\fonts\\afm\n",
            "      copying lib\\matplotlib\\mpl-data\\stylelib\\seaborn-v0_8.mplstyle -> build\\lib.win-amd64-cpython-312\\matplotlib\\mpl-data\\stylelib\n",
            "      copying lib\\matplotlib\\mpl-data\\fonts\\ttf\\DejaVuSans-Bold.ttf -> build\\lib.win-amd64-cpython-312\\matplotlib\\mpl-data\\fonts\\ttf\n",
            "      copying lib\\matplotlib\\mpl-data\\fonts\\pdfcorefonts\\Symbol.afm -> build\\lib.win-amd64-cpython-312\\matplotlib\\mpl-data\\fonts\\pdfcorefonts\n",
            "      copying lib\\matplotlib\\mpl-data\\fonts\\pdfcorefonts\\Helvetica-Oblique.afm -> build\\lib.win-amd64-cpython-312\\matplotlib\\mpl-data\\fonts\\pdfcorefonts\n",
            "      copying lib\\matplotlib\\backends\\web_backend\\css\\boilerplate.css -> build\\lib.win-amd64-cpython-312\\matplotlib\\backends\\web_backend\\css\n",
            "      running build_ext\n",
            "      Extracting /project/freetype/freetype2/2.6.1/freetype-2.6.1.tar.gz\n",
            "      Building freetype in build\\freetype-2.6.1\n",
            "      error: Microsoft Visual C++ 14.0 or greater is required. Get it with \"Microsoft C++ Build Tools\": https://visualstudio.microsoft.com/visual-cpp-build-tools/\n",
            "      [end of output]\n",
            "  \n",
            "  note: This error originates from a subprocess, and is likely not a problem with pip.\n",
            "  ERROR: Failed building wheel for matplotlib\n",
            "ERROR: ERROR: Failed to build installable wheels for some pyproject.toml based projects (matplotlib)\n"
          ]
        },
        {
          "name": "stdout",
          "output_type": "stream",
          "text": [
            "\n",
            "  Using cached matplotlib-3.7.1.tar.gz (38.0 MB)\n",
            "  Installing build dependencies: started\n",
            "  Installing build dependencies: finished with status 'done'\n",
            "  Getting requirements to build wheel: started\n",
            "  Getting requirements to build wheel: finished with status 'done'\n",
            "  Preparing metadata (pyproject.toml): started\n",
            "  Preparing metadata (pyproject.toml): finished with status 'done'\n",
            "Requirement already satisfied: contourpy>=1.0.1 in c:\\users\\orlan\\appdata\\local\\programs\\python\\python312\\lib\\site-packages (from matplotlib==3.7.1) (1.2.1)\n",
            "Requirement already satisfied: cycler>=0.10 in c:\\users\\orlan\\appdata\\local\\programs\\python\\python312\\lib\\site-packages (from matplotlib==3.7.1) (0.12.1)\n",
            "Requirement already satisfied: fonttools>=4.22.0 in c:\\users\\orlan\\appdata\\local\\programs\\python\\python312\\lib\\site-packages (from matplotlib==3.7.1) (4.51.0)\n",
            "Requirement already satisfied: kiwisolver>=1.0.1 in c:\\users\\orlan\\appdata\\local\\programs\\python\\python312\\lib\\site-packages (from matplotlib==3.7.1) (1.4.5)\n",
            "Requirement already satisfied: numpy>=1.20 in c:\\users\\orlan\\appdata\\local\\programs\\python\\python312\\lib\\site-packages (from matplotlib==3.7.1) (1.26.4)\n",
            "Requirement already satisfied: packaging>=20.0 in c:\\users\\orlan\\appdata\\roaming\\python\\python312\\site-packages (from matplotlib==3.7.1) (24.0)\n",
            "Requirement already satisfied: pillow>=6.2.0 in c:\\users\\orlan\\appdata\\local\\programs\\python\\python312\\lib\\site-packages (from matplotlib==3.7.1) (10.3.0)\n",
            "Requirement already satisfied: pyparsing>=2.3.1 in c:\\users\\orlan\\appdata\\local\\programs\\python\\python312\\lib\\site-packages (from matplotlib==3.7.1) (3.1.2)\n",
            "Requirement already satisfied: python-dateutil>=2.7 in c:\\users\\orlan\\appdata\\roaming\\python\\python312\\site-packages (from matplotlib==3.7.1) (2.9.0.post0)\n",
            "Requirement already satisfied: six>=1.5 in c:\\users\\orlan\\appdata\\roaming\\python\\python312\\site-packages (from python-dateutil>=2.7->matplotlib==3.7.1) (1.16.0)\n",
            "Building wheels for collected packages: matplotlib\n",
            "  Building wheel for matplotlib (pyproject.toml): started\n",
            "  Building wheel for matplotlib (pyproject.toml): finished with status 'error'\n",
            "Failed to build matplotlib\n"
          ]
        }
      ],
      "source": [
        "%pip install matplotlib==3.7.1"
      ]
    },
    {
      "cell_type": "code",
      "execution_count": 3,
      "metadata": {
        "id": "AiMgSLjdZSea"
      },
      "outputs": [],
      "source": [
        "import matplotlib as plt # type: ignore"
      ]
    },
    {
      "cell_type": "code",
      "execution_count": 4,
      "metadata": {
        "colab": {
          "base_uri": "https://localhost:8080/",
          "height": 36
        },
        "id": "UQWGfr_zZSea",
        "outputId": "176f657a-b769-4ba2-8ed5-5ca7d104f37b"
      },
      "outputs": [
        {
          "data": {
            "text/plain": [
              "'3.9.0'"
            ]
          },
          "execution_count": 4,
          "metadata": {},
          "output_type": "execute_result"
        }
      ],
      "source": [
        "plt.__version__"
      ]
    },
    {
      "cell_type": "markdown",
      "metadata": {
        "id": "tQdX90Ue03c7"
      },
      "source": [
        "#### Questão 2\n",
        "\n",
        "Escreva um código para importar a biblioteca `numpy` com o alias `np`"
      ]
    },
    {
      "cell_type": "code",
      "execution_count": 5,
      "metadata": {
        "id": "Gh8aZUwaakuT"
      },
      "outputs": [],
      "source": [
        "import numpy as np # type: ignore"
      ]
    },
    {
      "cell_type": "code",
      "execution_count": 6,
      "metadata": {
        "colab": {
          "base_uri": "https://localhost:8080/",
          "height": 36
        },
        "id": "YeUaizjWZSea",
        "outputId": "bf064e79-78e3-41ee-e4cc-6a2409c19f9a"
      },
      "outputs": [
        {
          "data": {
            "text/plain": [
              "'1.26.4'"
            ]
          },
          "execution_count": 6,
          "metadata": {},
          "output_type": "execute_result"
        }
      ],
      "source": [
        "np.__version__"
      ]
    },
    {
      "cell_type": "code",
      "execution_count": 7,
      "metadata": {
        "colab": {
          "base_uri": "https://localhost:8080/"
        },
        "id": "gbaeESh2ZSea",
        "outputId": "ae76e4b4-89db-418e-fd42-4d25785342af"
      },
      "outputs": [
        {
          "name": "stdout",
          "output_type": "stream",
          "text": [
            "Versão do numpy -> 1.26.4\n"
          ]
        }
      ],
      "source": [
        "print('Versão do numpy -> %s' % np.__version__)"
      ]
    },
    {
      "cell_type": "markdown",
      "metadata": {
        "id": "gfg-aiip03vC"
      },
      "source": [
        "#### Questão 3\n",
        "Crie um programa que lê a seguinte lista de números e escolha um número desta aleatoriamente.\n",
        "```\n",
        "lista = [8, 12, 54, 23, 43, 1, 90, 87, 105, 77]\n",
        "```"
      ]
    },
    {
      "cell_type": "code",
      "execution_count": 8,
      "metadata": {
        "id": "Sla71KJQalws"
      },
      "outputs": [],
      "source": [
        "lista = [8, 12, 54, 23, 43, 1, 90, 87, 105, 77]"
      ]
    },
    {
      "cell_type": "code",
      "execution_count": 9,
      "metadata": {
        "id": "cz7e9D9oZSea"
      },
      "outputs": [],
      "source": [
        "from random import choice"
      ]
    },
    {
      "cell_type": "code",
      "execution_count": 10,
      "metadata": {
        "colab": {
          "base_uri": "https://localhost:8080/"
        },
        "id": "cBS32x5jZSeb",
        "outputId": "9c06910a-7e3b-4b9e-f7f7-8e119bc50123"
      },
      "outputs": [
        {
          "name": "stdout",
          "output_type": "stream",
          "text": [
            "Número escolhido: 90\n"
          ]
        }
      ],
      "source": [
        "resultado = choice(lista)\n",
        "print(f\"Número escolhido: {choice(lista)}\")"
      ]
    },
    {
      "cell_type": "markdown",
      "metadata": {
        "id": "oadrJbl704MM"
      },
      "source": [
        "#### Questão 4\n",
        "\n",
        "Crie um programa que sorteia aleatoriamente um número inteiro menor que 100.\n",
        "> Dica: use a função [`randrange()`](https://docs.python.org/3/library/random.html#random.randrange) da biblioteca `random`. Essa função recebe como parâmetro o valor limite para a escolha aleatória ou um intervalo se passado o limite mínimo e máximo. Por exemplo, `randrange(5)` gera valores inteiros menores que 5.\n"
      ]
    },
    {
      "cell_type": "code",
      "execution_count": 11,
      "metadata": {
        "id": "UZSpqpOuanFT"
      },
      "outputs": [],
      "source": [
        "from random import randrange\n"
      ]
    },
    {
      "cell_type": "code",
      "execution_count": 12,
      "metadata": {
        "colab": {
          "base_uri": "https://localhost:8080/"
        },
        "id": "QWEeM5uzZSeb",
        "outputId": "4a26fed6-0bb0-443e-a4d9-4dd817dbfc33"
      },
      "outputs": [
        {
          "data": {
            "text/plain": [
              "77"
            ]
          },
          "execution_count": 12,
          "metadata": {},
          "output_type": "execute_result"
        }
      ],
      "source": [
        " # Opção 1\n",
        "randrange(100)"
      ]
    },
    {
      "cell_type": "code",
      "execution_count": 13,
      "metadata": {
        "colab": {
          "base_uri": "https://localhost:8080/"
        },
        "id": "_e5MsLmpZSeb",
        "outputId": "53a34c27-a6b9-4d0a-8a58-3ee60f868939"
      },
      "outputs": [
        {
          "data": {
            "text/plain": [
              "93"
            ]
          },
          "execution_count": 13,
          "metadata": {},
          "output_type": "execute_result"
        }
      ],
      "source": [
        " # Opção 2\n",
        "num_sorteio = randrange(100)\n",
        "\n",
        "num_sorteio"
      ]
    },
    {
      "cell_type": "code",
      "execution_count": 14,
      "metadata": {
        "colab": {
          "base_uri": "https://localhost:8080/"
        },
        "id": "ckEmNRr9ZSeb",
        "outputId": "cd5260fd-ea52-472c-a981-221bfdc8ca31"
      },
      "outputs": [
        {
          "name": "stdout",
          "output_type": "stream",
          "text": [
            "Número sorteado: 76\n"
          ]
        }
      ],
      "source": [
        " # Opção 3\n",
        "num_sorteio = randrange(100)\n",
        "\n",
        "print(f\"Número sorteado: {randrange(num_sorteio)}\")"
      ]
    },
    {
      "cell_type": "markdown",
      "metadata": {
        "id": "3RgyMaan04TD"
      },
      "source": [
        "#### Questão 5\n",
        "Crie um programa que solicite à pessoa usuária digitar dois números inteiros e calcular a potência do 1º número elevado ao 2º.\n",
        "> Dica: use a função [`pow()`](https://docs.python.org/3/library/random.html#random.randrange) da biblioteca `math`\n"
      ]
    },
    {
      "cell_type": "code",
      "execution_count": 15,
      "metadata": {
        "id": "UOzl8la0aoBd"
      },
      "outputs": [],
      "source": [
        "from math import pow"
      ]
    },
    {
      "cell_type": "code",
      "execution_count": 16,
      "metadata": {
        "colab": {
          "base_uri": "https://localhost:8080/"
        },
        "id": "S-Z5O9_HZSeb",
        "outputId": "6a962ede-e96d-4733-9ab2-33db9c676b23"
      },
      "outputs": [
        {
          "name": "stdout",
          "output_type": "stream",
          "text": [
            "5 elevado a 2 é igual a 25.0\n"
          ]
        }
      ],
      "source": [
        "base = int(input(\"Digite a base da potência: \"))\n",
        "expoente = int(input(\"Digite o expoente da potência: \"))\n",
        "\n",
        "print(f\"{base} elevado a {expoente} é igual a {pow(base, expoente)}\")\n"
      ]
    },
    {
      "cell_type": "markdown",
      "metadata": {
        "id": "ieCkWjvEmJU0"
      },
      "source": [
        "### Aplicando a projetos"
      ]
    },
    {
      "cell_type": "markdown",
      "metadata": {
        "id": "0rS4QHP1mXQE"
      },
      "source": [
        "#### Questão 6\n",
        "Um programa deve ser escrito para sortear uma pessoa seguidora de uma rede social para ganhar um prêmio. A lista de participantes é numerada e devemos escolher aleatoriamente um número de acordo com a quantidade de participantes.\n",
        "\n",
        "Peça à pessoa usuária para fornecer o número de participantes do sorteio e devolva para ela o número sorteado."
      ]
    },
    {
      "cell_type": "code",
      "execution_count": 17,
      "metadata": {
        "colab": {
          "base_uri": "https://localhost:8080/"
        },
        "id": "G4k5jUdAao8t",
        "outputId": "6c7b612e-4700-4929-d121-90cc9abb4f40"
      },
      "outputs": [
        {
          "name": "stdout",
          "output_type": "stream",
          "text": [
            "O número sorteado foi 5\n"
          ]
        }
      ],
      "source": [
        "from random import randint\n",
        "\n",
        "n = int(input(\"Digite o nº de participantes do sorteio: \"))\n",
        "\n",
        "print(f\"O número sorteado foi {randint(1, n)}\")\n"
      ]
    },
    {
      "cell_type": "markdown",
      "metadata": {
        "id": "9D6cd4tomhSi"
      },
      "source": [
        "#### Questão 7\n",
        "\n",
        "Você recebeu uma demanda para gerar números de token para o acesso ao aplicativo de uma empresa. O token precisa ser par e variar de 1000 até 9998. Escreva um código que solicita à pessoa usuária o seu nome e gera uma mensagem junto a esse token gerado aleatoriamente:\n",
        "\n",
        "`\"Olá, [nome], o seu token de acesso é [token]! Seja bem-vindo(a)!\"`"
      ]
    },
    {
      "cell_type": "code",
      "execution_count": 18,
      "metadata": {
        "colab": {
          "base_uri": "https://localhost:8080/"
        },
        "id": "Y4ACJ4rEaqQW",
        "outputId": "b317602f-2f3b-4f7e-d9b6-6539dd3f3827"
      },
      "outputs": [
        {
          "name": "stdout",
          "output_type": "stream",
          "text": [
            "Olá, Orlando, o seu token de acesso é 2460! Seja bem-vindo(a)!\n"
          ]
        }
      ],
      "source": [
        "from random import randrange\n",
        "\n",
        "nome = input(\"Qual o seu nome? \")\n",
        "\n",
        "token = randrange(1000, 10000, 2)\n",
        "\n",
        "print(f\"Olá, {nome}, o seu token de acesso é {token}! Seja bem-vindo(a)!\")\n"
      ]
    },
    {
      "cell_type": "markdown",
      "metadata": {
        "id": "FHJHH_WemhFJ"
      },
      "source": [
        "#### Questão 8\n",
        "Para diversificar e atrair novos clientes, uma lanchonete criou um item misterioso em seu cardápio chamado \"salada de frutas surpresa\". Neste item, são escolhidas aleatoriamente 3 frutas de uma lista de 12 frutas para compor a salada de frutas da pessoa cliente.\n",
        "\n",
        "Crie o código que faça essa seleção aleatória de acordo com a lista abaixo:\n",
        "\n",
        "```\n",
        "frutas = [\"maçã\", \"banana\", \"uva\", \"pêra\",\n",
        "          \"manga\", \"coco\", \"melancia\", \"mamão\",\n",
        "          \"laranja\", \"abacaxi\", \"kiwi\", \"ameixa\"]\n",
        "```"
      ]
    },
    {
      "cell_type": "code",
      "execution_count": 19,
      "metadata": {
        "colab": {
          "base_uri": "https://localhost:8080/"
        },
        "id": "gR0BNVGoarOv",
        "outputId": "32038218-79a7-4f3c-ddca-2376b15a04f7"
      },
      "outputs": [
        {
          "name": "stdout",
          "output_type": "stream",
          "text": [
            "A salada surpresa é: kiwi, uva, manga\n"
          ]
        }
      ],
      "source": [
        "from random import choices\n",
        "\n",
        "frutas = [\"maçã\", \"banana\", \"uva\", \"pêra\",\"manga\", \"coco\",\n",
        "          \"melancia\", \"mamão\", \"laranja\", \"abacaxi\", \"kiwi\", \"ameixa\"]\n",
        "\n",
        "salada = choices(frutas, k=3)\n",
        "\n",
        "print(f\"A salada surpresa é: {salada[0]}, {salada[1]}, {salada[2]}\")\n"
      ]
    },
    {
      "cell_type": "markdown",
      "metadata": {
        "id": "m_voDwY9mhNJ"
      },
      "source": [
        "#### Questão 9\n",
        "Você recebeu um desafio de calcular a raiz quadrada de uma lista de números, identificando quais resultaram em um número inteiro. A lista é a seguinte:\n",
        "```\n",
        "numeros = [2, 8, 15, 23, 91, 112, 256]\n",
        "```\n",
        "\n",
        "Informe no final quais números possuem raízes inteiras e seus respectivos valores.\n",
        "\n",
        "> Dica: use a comparação entre a divisão inteira da raiz por 1 com o valor da raiz para verificar se o número é inteiro. Por exemplo:\n",
        "```\n",
        "num = 1.5\n",
        "num_2 = 2\n",
        "print(f'{num} é inteiro? :', num // 1 == num)\n",
        "print(f'{num_2} é inteiro? :', num_2 // 1 == num_2)\n",
        "```\n",
        "Saída:\n",
        "```\n",
        "1.5 é inteiro? : False\n",
        "2 é inteiro? : True\n",
        "```"
      ]
    },
    {
      "cell_type": "code",
      "execution_count": 20,
      "metadata": {
        "colab": {
          "base_uri": "https://localhost:8080/"
        },
        "id": "80eu9G8HaswW",
        "outputId": "db22d4fb-72b9-4661-a5e7-3bdbdfd263d3"
      },
      "outputs": [
        {
          "name": "stdout",
          "output_type": "stream",
          "text": [
            "O número 256 possui raiz quadrada inteira igual a 16\n"
          ]
        }
      ],
      "source": [
        "from math import sqrt\n",
        "\n",
        "numeros = [2, 8, 15, 23, 91, 112, 256]\n",
        "raiz = []\n",
        "\n",
        "for numero in numeros:\n",
        "  raiz.append(sqrt(numero))\n",
        "\n",
        "for i in range(len(raiz)):\n",
        "  # essa condição testa se um número é inteiro.\n",
        "  if raiz[i] // 1 == raiz[i]:\n",
        "    print(f\"O número {numeros[i]} possui raiz quadrada inteira igual a {int(raiz[i])}\")\n"
      ]
    },
    {
      "cell_type": "markdown",
      "metadata": {
        "id": "dBl0iKd7mhYA"
      },
      "source": [
        "#### Questão 10\n",
        "Faça um programa para uma loja que vende grama para jardins. Essa loja trabalha com jardins circulares e o preço do metro quadrado da grama é de R$ 25,00. Peça à pessoa usuária o raio da área circular e devolva o valor em reais do quanto precisará pagar.  \n",
        "\n",
        "> Dica: use a variável [`pi`](https://docs.python.org/pt-br/3/library/math.html#math.pi) e o método [`pow()`](https://docs.python.org/3/library/random.html#random.randrange) da biblioteca `math`. O cálculo de área de um círculo é de: $Area = \\pi \\times r^2$"
      ]
    },
    {
      "cell_type": "code",
      "execution_count": 21,
      "metadata": {
        "colab": {
          "base_uri": "https://localhost:8080/"
        },
        "id": "VK0RHwYIattI",
        "outputId": "d8f84725-acca-4c0c-c484-e94db4aa9ec9"
      },
      "outputs": [
        {
          "name": "stdout",
          "output_type": "stream",
          "text": [
            "Você precisará pagar R$ 706.86 por uma área de 28.27 metros de grama\n"
          ]
        }
      ],
      "source": [
        "from math import pi, pow\n",
        "\n",
        "raio = float(input(\"Digite o raio da área circular em metros: \"))\n",
        "\n",
        "area = pi*pow(raio,2)\n",
        "valor = area * 25.00\n",
        "\n",
        "print(f\"Você precisará pagar R$ {round(valor,2)} por uma área de {round(area,2)} metros de grama\")\n"
      ]
    },
    {
      "cell_type": "markdown",
      "metadata": {
        "id": "D9e3FqhO1S3X"
      },
      "source": [
        "## Aula 2 - Funções"
      ]
    },
    {
      "cell_type": "markdown",
      "metadata": {
        "id": "DTBxjtxXa1dz"
      },
      "source": [
        "### Aquecimento"
      ]
    },
    {
      "cell_type": "markdown",
      "metadata": {
        "id": "dedVZJ3fa1dz"
      },
      "source": [
        "#### Questão 1\n",
        "\n",
        "Escreva um código que lê a lista abaixo e faça:\n",
        "\n",
        "```\n",
        "lista = [16, 14, 63, 65, 17, 99, 70, 11, 20, 48, 79, 32, 17, 89, 12, 25, 66]\n",
        "```\n",
        "\n",
        "- A leitura do tamanho da lista\n",
        "- A leitura do maior e menor valor\n",
        "- A soma dos valores da lista\n",
        "\n",
        "Ao final exiba uma mensagem dizendo:\n",
        "\n",
        "```\n",
        "\"A lista possui [tam] números em que o maior número é [maior] e o menor número é [menor]. A soma dos valores pares presentes nela é igual a [soma]\"\n",
        "```\n",
        "\n",
        "> Dica: use as funções embutidas presentes na [documentação do Python](https://docs.python.org/3/library/functions.html)\n"
      ]
    },
    {
      "cell_type": "code",
      "execution_count": 22,
      "metadata": {
        "colab": {
          "base_uri": "https://localhost:8080/"
        },
        "id": "KrGD5Nl5a1dz",
        "outputId": "51d9b674-87e0-4efc-8198-f1a838598da4"
      },
      "outputs": [
        {
          "name": "stdout",
          "output_type": "stream",
          "text": [
            "A lista possui 17 números em que o maior número é 99 e o menor número é 11. A soma dos valores  presentes nela é igual a 743.\n"
          ]
        }
      ],
      "source": [
        "lista = [16, 14, 63, 65, 17, 99, 70, 11, 20, 48, 79, 32, 17, 89, 12, 25, 66]\n",
        "\n",
        "tam = len(lista)\n",
        "maior = max(lista)\n",
        "menor = min(lista)\n",
        "soma = sum(lista)\n",
        "\n",
        "print(f\"A lista possui {tam} números em que o maior número é {maior} e o menor número é {menor}. A soma dos valores  presentes nela é igual a {soma}.\")"
      ]
    },
    {
      "cell_type": "markdown",
      "metadata": {
        "id": "435rt7sha1dz"
      },
      "source": [
        "#### Questão 2\n",
        "\n",
        "Escreva uma função que gere a tabuada de um número inteiro de 1 a 10, de acordo com a escolha da pessoa usuária. Como exemplo, para o número 7, a tabuada deve ser mostrada no seguinte formato:\n",
        "```\n",
        "Tabuada do 7:\n",
        "7 x 0 = 0\n",
        "7 x 1 = 7\n",
        "[...]\n",
        "7 x 10 = 70\n",
        "```\n"
      ]
    },
    {
      "cell_type": "code",
      "execution_count": 23,
      "metadata": {
        "colab": {
          "base_uri": "https://localhost:8080/"
        },
        "id": "DxHuhb19a1d0",
        "outputId": "9f759567-9cb2-48df-d788-3b556bf87a2a"
      },
      "outputs": [
        {
          "name": "stdout",
          "output_type": "stream",
          "text": [
            "Tabuada do 9:\n",
            "9 x 0 = 0\n",
            "9 x 1 = 9\n",
            "9 x 2 = 18\n",
            "9 x 3 = 27\n",
            "9 x 4 = 36\n",
            "9 x 5 = 45\n",
            "9 x 6 = 54\n",
            "9 x 7 = 63\n",
            "9 x 8 = 72\n",
            "9 x 9 = 81\n",
            "9 x 10 = 90\n"
          ]
        }
      ],
      "source": [
        "num = int(input(\"Digite um número inteiro de 1 a 10:\"))\n",
        "\n",
        "# Função tabuada\n",
        "def tabuada(numero: int):\n",
        "  print(f'Tabuada do {numero}:')\n",
        "  for i in range(11):\n",
        "    resultado = numero * i\n",
        "    print(f'{numero} x {i} = {resultado}')\n",
        "\n",
        "# Tabuada do número digitado\n",
        "tabuada(num)"
      ]
    },
    {
      "cell_type": "markdown",
      "metadata": {
        "id": "OwoNphMPa1d0"
      },
      "source": [
        "#### Questão 3\n",
        "Crie a função que leia a lista abaixo e retorne uma nova lista com os múltiplos de 3:\n",
        "\n",
        "```\n",
        "[97, 80, 94, 88, 80, 1, 16, 53, 62, 32, 24, 99]\n",
        "```\n",
        "\n",
        "Utilize o `return` na função e salve a nova lista na variável `mult_3`."
      ]
    },
    {
      "cell_type": "code",
      "execution_count": 24,
      "metadata": {
        "colab": {
          "base_uri": "https://localhost:8080/"
        },
        "id": "kYrKxhd8a1d0",
        "outputId": "20806568-095d-43e0-e636-78cfc9ed9a40"
      },
      "outputs": [
        {
          "data": {
            "text/plain": [
              "[24, 99]"
            ]
          },
          "execution_count": 24,
          "metadata": {},
          "output_type": "execute_result"
        }
      ],
      "source": [
        "\n",
        "lista = [97, 80, 94, 88, 80, 1, 16, 53, 62, 32, 24, 99]\n",
        "\n",
        "\n",
        "mult_3 = []\n",
        "def multiplo_3(lista: list) -> list:\n",
        "  for i in range(len(lista)):\n",
        "    if lista[i] % 3 == 0:\n",
        "      mult_3.append(lista[i])\n",
        "  return mult_3\n",
        "\n",
        "mult_3 = multiplo_3(lista)\n",
        "mult_3"
      ]
    },
    {
      "cell_type": "markdown",
      "metadata": {
        "id": "kFkuo_SUa1d0"
      },
      "source": [
        "#### Questão 4\n",
        "Crie uma lista dos quadrados dos números da seguinte lista `[1, 2, 3, 4, 5, 6, 7, 8, 9, 10]`.\n",
        "\n",
        "Lembre-se de utilizar as funções lambda e `map()` para calcular o quadrado de cada elemento da lista.\n"
      ]
    },
    {
      "cell_type": "code",
      "execution_count": 25,
      "metadata": {
        "colab": {
          "base_uri": "https://localhost:8080/"
        },
        "id": "Iav68EpKa1d0",
        "outputId": "ebff5ef8-b428-493d-d460-093834a1b805"
      },
      "outputs": [
        {
          "data": {
            "text/plain": [
              "[1, 4, 9, 16, 25, 36, 49, 64, 81, 100]"
            ]
          },
          "execution_count": 25,
          "metadata": {},
          "output_type": "execute_result"
        }
      ],
      "source": [
        "numeros = [1, 2, 3, 4, 5, 6, 7, 8, 9, 10]\n",
        "\n",
        "quadrado = lambda x: x ** 2\n",
        "\n",
        "resultado = list(map(quadrado, numeros))\n",
        "resultado"
      ]
    },
    {
      "cell_type": "markdown",
      "metadata": {
        "id": "PX7G0Qgha1d0"
      },
      "source": [
        "### Aplicando a projetos"
      ]
    },
    {
      "cell_type": "markdown",
      "metadata": {
        "id": "oVWgrilxa1d0"
      },
      "source": [
        "#### Questão 5\n",
        "\n",
        "Você foi contratado(a) como cientista de dados de uma associação de skate. Para analisar as notas recebidas dos(as) skatistas em algumas competições ao longo do ano, você precisa criar um código que calcula a pontuação dos(as) atletas. Para isso, o seu código deve receber 5 notas digitadas pelas pessoas juradas.\n",
        "\n",
        "Para calcular a pontuação de um(a) skatista, você precisa eliminar a maior e a menor pontuação dentre as 5 notas e tirar a média das 3 notas que sobraram.\n",
        "\n",
        "Retorne a média para apresentar o texto:\n",
        "`\"Nota da manobra: [media]\"`\n",
        "\n"
      ]
    },
    {
      "cell_type": "code",
      "execution_count": 26,
      "metadata": {
        "colab": {
          "base_uri": "https://localhost:8080/"
        },
        "id": "1nbQ-hIRa1d0",
        "outputId": "295cf9a4-26a3-4177-a9cc-befdc78e2fb6"
      },
      "outputs": [
        {
          "name": "stdout",
          "output_type": "stream",
          "text": [
            "Nota da manobra: 7.3\n"
          ]
        }
      ],
      "source": [
        "notas = []\n",
        "\n",
        "for i in range(1,6):\n",
        "  nota = float(input(f\"Digite a {i}ª nota: \"))\n",
        "  notas.append(nota)\n",
        "\n",
        "\n",
        "def media(lista):\n",
        "  lista.remove(max(lista))\n",
        "  lista.remove(min(lista))\n",
        "  return sum(lista) / len(lista)\n",
        "\n",
        "\n",
        "media = media(notas)\n",
        "print(f\"Nota da manobra: {round(media, 1)}\")"
      ]
    },
    {
      "cell_type": "markdown",
      "metadata": {
        "id": "p3MnWjnda1d0"
      },
      "source": [
        "#### Questão 6\n",
        "\n",
        "Para atender a uma demanda de uma instituição de ensino para a análise do desempenho de seus(suas) estudantes, você precisa criar uma função que receba uma lista de 4 notas e retorne:\n",
        "- maior nota\n",
        "- menor nota\n",
        "- média\n",
        "- situação (Aprovado(a) ou Reprovado(a))\n",
        "\n",
        "Para testar o comportamento da função, os dados podem ser exibidos em um texto:\n",
        "```\n",
        "\"O(a) estudante obteve uma media de [media], com a sua maior nota de [maior] pontos e a menor nota de [menor] pontos e foi [situacao]\"\n",
        "```"
      ]
    },
    {
      "cell_type": "code",
      "execution_count": 27,
      "metadata": {
        "colab": {
          "base_uri": "https://localhost:8080/"
        },
        "id": "5Bx-K65ya1d0",
        "outputId": "d024fb54-80b4-4126-90b4-f3df6ed06d04"
      },
      "outputs": [
        {
          "name": "stdout",
          "output_type": "stream",
          "text": [
            "O(a) estudante obteve uma media de 8.25, com a sua maior nota de 9.0 pontos e a menor nota de 8.0 pontos e foi Aprovado(a)\n"
          ]
        }
      ],
      "source": [
        "notas = []\n",
        "\n",
        "for i in range(1,5):\n",
        "  nota = float(input(f\"Digite a {i}ª nota: \"))\n",
        "  notas.append(nota)\n",
        "\n",
        "def cadastro(lista):\n",
        "  maior = max(lista)\n",
        "  menor = min(lista)\n",
        "  media = sum(lista) / len(lista)\n",
        "  if media >= 6:\n",
        "    situacao = \"Aprovado(a)\"\n",
        "  else:\n",
        "    situacao = \"Reprovado(a)\"\n",
        "\n",
        "  return (media, maior, menor, situacao)\n",
        "\n",
        "media, maior, menor, situacao = cadastro(notas)\n",
        "\n",
        "print(f\"O(a) estudante obteve uma media de {media}, com a sua maior nota de {maior} pontos e a menor nota de {menor} pontos e foi {situacao}\")"
      ]
    },
    {
      "cell_type": "markdown",
      "metadata": {
        "id": "_sPZj_x9a1d0"
      },
      "source": [
        "#### Questão 7\n",
        "\n",
        "Você recebeu uma demanda para tratar 2 listas com os nomes e sobrenomes de cada estudante concatenando-as para apresentar seus nomes completos na forma `Nome Sobrenome`.\n",
        "\n",
        "As listas são:\n",
        "```\n",
        "nomes = [\"joão\", \"MaRia\", \"JOSÉ\"]\n",
        "sobrenomes = [\"SILVA\", \"souza\", \"Tavares\"]\n",
        "```\n",
        "\n",
        "O texto exibido ao fim deve ser parecido com:\n",
        "```\n",
        "\"Nome completo: Ana Silva\"\n",
        "```\n",
        "\n",
        "> Dica: Utilize a função map para mapear os nomes e sobrenomes e as funções de string para tratar o texto."
      ]
    },
    {
      "cell_type": "code",
      "execution_count": 28,
      "metadata": {
        "colab": {
          "base_uri": "https://localhost:8080/"
        },
        "id": "SdPq27E-a1d0",
        "outputId": "afda6112-505a-4eab-d549-7cdb701db84d"
      },
      "outputs": [
        {
          "name": "stdout",
          "output_type": "stream",
          "text": [
            "Nome completo: João Silva\n",
            "Nome completo: Maria Souza\n",
            "Nome completo: José Tavares\n"
          ]
        }
      ],
      "source": [
        "# Nomes dos estudantes\n",
        "nomes = [\"joão\", \"MaRia\", \"JOSÉ\"]\n",
        "sobrenomes = [\"SILVA\", \"souza\", \"Tavares\"]\n",
        "\n",
        "# Função lambda que recebe duas listas e itera em cada uma concatenando seu nome e sobrenome\n",
        "# na forma desejada\n",
        "nome_completo = map(lambda nome, sobrenome: f'{nome.title()} {sobrenome.title()}', nomes, sobrenomes)\n",
        "\n",
        "# Leitura do objeto mapa(iterável)\n",
        "for n in nome_completo:\n",
        "  print(f'Nome completo: {n}')"
      ]
    },
    {
      "cell_type": "markdown",
      "metadata": {
        "id": "vC2D83mCa1d0"
      },
      "source": [
        "#### Questão 8\n",
        "Como cientista de dados em um time de futebol, você precisa implementar novas formas de coleta de dados sobre o desempenho de jogadores e do time como um todo.\n",
        "\n",
        "Sua primeira ação é criar uma forma de calcular a pontuação do time no campeonato nacional a partir dos dados de gols marcados e sofridos em cada jogo.\n",
        "\n",
        "Escreva uma função chamada `calcula_pontos` que recebe como parâmetros duas listas de números inteiros, representando os gols marcados e sofridos pelo time em cada partida do campeonato.\n",
        "\n",
        "A função deve retornar a pontuação do time e o aproveitamento em percentual, levando em consideração que a vitória vale 3 pontos, o empate vale 1 ponto e a derrota 0 pontos.\n",
        "\n",
        "> Observação: Se a quantidade de gols marcados numa partida for maior que a de sofridos, o time venceu. Caso seja igual, o time empatou e se for menor, o time perdeu. Para calcular o aproveitamento devemos fazer a razão entre a pontuação do time pela pontuação máxima que ele poderia receber.\n",
        "\n",
        "Para teste, utilize as seguintes listas de gols marcados e sofridos\n",
        "```\n",
        "gols_marcados = [2, 1, 3, 1, 0]\n",
        "gols_sofridos = [1, 2, 2, 1, 3]\n",
        "```\n",
        "\n",
        "Provável texto exibido:\n",
        "```\n",
        "\"A pontuação do time foi de [pontos] e seu aproveitamento foi de [aprov]%\"\n",
        "```\n"
      ]
    },
    {
      "cell_type": "code",
      "execution_count": 29,
      "metadata": {
        "colab": {
          "base_uri": "https://localhost:8080/"
        },
        "id": "zxOwouhta1d0",
        "outputId": "a0c0135c-17ea-4306-83ff-2d250872ba70"
      },
      "outputs": [
        {
          "name": "stdout",
          "output_type": "stream",
          "text": [
            "A pontuação do time foi de 7 e seu aproveitamento foi de 47%\n"
          ]
        }
      ],
      "source": [
        "gols_marcados = [2, 1, 3, 1, 0]\n",
        "gols_sofridos = [1, 2, 2, 1, 3]\n",
        "\n",
        "def calcula_pontos(gols_marcados, gols_sofridos):\n",
        "  pontos = 0\n",
        "  for i in range(len(gols_marcados)):\n",
        "    if gols_marcados[i] > gols_sofridos[i]:\n",
        "      pontos += 3\n",
        "    elif gols_marcados[i] == gols_sofridos[i]:\n",
        "      pontos += 1\n",
        "  aprov = 100 * pontos / (len(gols_marcados) * 3)\n",
        "  return (pontos, aprov)\n",
        "\n",
        "pontos, aprov = calcula_pontos(gols_marcados, gols_sofridos)\n",
        "print(f\"A pontuação do time foi de {pontos} e seu aproveitamento foi de {round(aprov)}%\")"
      ]
    },
    {
      "cell_type": "markdown",
      "metadata": {
        "id": "QrBlxV7Da1d0"
      },
      "source": [
        "#### Questão 9\n",
        "\n",
        "Você recebeu o desafio de criar um código que calcula os gastos de uma viagem para um das quatro cidades partindo de Recife: Salvador, Fortaleza, Natal e Aracaju.\n",
        "\n",
        "O custo da diária do hotel é de 150 reais em todas elas e o consumo de gasolina na viagem de carro é de 14 km/l, sendo que o valor da gasolina é de 5 reais o litro. O gastos com passeios e alimentação a se fazer em cada uma delas por dia seria de `[200, 400, 250, 300]`, respectivamente.\n",
        "\n",
        "Sabendo que as distâncias entre Recife e cada uma das cidades é de aproximadamente `[850, 800, 300, 550]` km, crie três funções nas quais a 1ª calcule os gastos com hotel (`gasto_hotel`), a 2ª calcule os gastos com a gasolina (`gasto_gasolina`) e a 3ª os gastos com passeio e alimentação (`gasto_passeio`).\n",
        "\n",
        "Para testar, simule uma viagem de 3 dias para Salvador partindo de Recife. Considere a viagem de ida e volta de carro.\n",
        "```\n",
        "\"Com base nos gastos definidos, uma viagem de [dias] dias para [cidade] saindo de Recife custaria [gastos] reais\"\n",
        "```\n"
      ]
    },
    {
      "cell_type": "code",
      "execution_count": 30,
      "metadata": {
        "colab": {
          "base_uri": "https://localhost:8080/"
        },
        "id": "VQyaLsnWa1d0",
        "outputId": "852c9d22-485b-4241-c5b7-fedcb6720ef0"
      },
      "outputs": [
        {
          "name": "stdout",
          "output_type": "stream",
          "text": [
            "Com base nos gastos definidos, uma viagem de 8 dias para Natal saindo de Recife custaria 3414.29 reais\n"
          ]
        }
      ],
      "source": [
        "dias = int(input(\"Quantas diárias? \"))\n",
        "cidade = input(\"Qual a cidade? [Salvador, Fortaleza, Natal ou Aracaju]: \")\n",
        "distancias = [850, 800, 300, 550]\n",
        "passeio = [200, 400, 250, 300]\n",
        "km_l = 14\n",
        "gasolina = 5\n",
        "\n",
        "def gasto_hotel(dias):\n",
        "    return 150 * dias\n",
        "\n",
        "def gasto_gasolina(cidade):\n",
        "    if cidade == \"Salvador\":\n",
        "        return (2 * distancias[0] * gasolina) / km_l\n",
        "    elif cidade == \"Fortaleza\":\n",
        "        return (2 * distancias[1] * gasolina) / km_l\n",
        "    elif cidade == \"Natal\":\n",
        "        return (2 * distancias[2] * gasolina) / km_l\n",
        "    elif cidade == \"Aracaju\":\n",
        "        return (2 * distancias[3] * gasolina) / km_l\n",
        "\n",
        "def gasto_passeio(cidade, dias):\n",
        "    if cidade==\"Salvador\":\n",
        "        return passeio[0] * dias\n",
        "    elif cidade==\"Fortaleza\":\n",
        "        return passeio[1] * dias\n",
        "    elif cidade==\"Natal\":\n",
        "        return passeio[2] * dias\n",
        "    elif cidade==\"Aracaju\":\n",
        "        return passeio[3] * dias\n",
        "\n",
        "gastos = gasto_hotel(dias) + gasto_gasolina(cidade) + gasto_passeio(cidade, dias)\n",
        "print(f\"Com base nos gastos definidos, uma viagem de {dias} dias para {cidade} saindo de Recife custaria {round(gastos, 2)} reais\")"
      ]
    },
    {
      "cell_type": "markdown",
      "metadata": {
        "id": "Uae8o3eMa1d1"
      },
      "source": [
        "#### Questão 10\n",
        "\n",
        "Você iniciou um estágio em uma empresa que trabalha com processamento de linguagem natural ([NLP](https://www.alura.com.br/artigos/guia-nlp-conceitos-tecnicas)). Sua líder requisitou que você criasse um trecho de código que recebe uma frase digitada pela pessoa usuária e filtre apenas as palavras com tamanho maior ou igual a 5, exibindo-as em uma lista. Essa demanda é voltada para a análise do padrão de comportamento de pessoas na escrita de palavras acima dessa quantidade de caracteres.\n",
        "\n",
        "> Dica: utilize as funções lambda e [`filter()`](https://docs.python.org/pt-br/3/library/functions.html?highlight=filter#filter) para filtrar essas palavras. Lembrando que a função embutida `filter()` recebe uma função (no nosso exemplo uma função lambda) e filtra um iterável de acordo com a função. Para tratar a frase use `replace()` para trocar a ',' '.', '!' e '?' por espaço.\n",
        "\n",
        "Use a frase `\"Aprender Python aqui na Alura é muito bom\"`para testar o código"
      ]
    },
    {
      "cell_type": "code",
      "execution_count": 31,
      "metadata": {
        "colab": {
          "base_uri": "https://localhost:8080/"
        },
        "id": "_WxPiZWtpWoX",
        "outputId": "8fcfaf17-6dfc-4f18-8d39-1962b10d20c4"
      },
      "outputs": [
        {
          "name": "stdout",
          "output_type": "stream",
          "text": [
            "['Orlando', 'muito', 'inteligente']\n"
          ]
        }
      ],
      "source": [
        "# Requisitando uma frase e separando-a pelos espaços. Usando replace para trocar\n",
        "# pontuações por espaço.\n",
        "frase = input(\"Digite uma frase: \")\n",
        "frase = frase.replace(',',' ').replace('.',' ').replace('!',' ').replace('?',' ').split()\n",
        "\n",
        "# Filtrando a frase no formato de lista, passando para a lista tamanho\n",
        "# apenas as palavras com 5 ou mais caracteres e imprimindo-a na tela\n",
        "tamanho = list(filter(lambda x: len(x) >= 5, frase))\n",
        "print(tamanho)"
      ]
    },
    {
      "cell_type": "markdown",
      "metadata": {
        "id": "u_KhhnCfh3ST"
      },
      "source": [
        "## Aula 3 - Estrutura de dados compostas"
      ]
    },
    {
      "cell_type": "markdown",
      "metadata": {
        "id": "6cya3lleh3SU"
      },
      "source": [
        "### Aquecimento"
      ]
    },
    {
      "cell_type": "markdown",
      "metadata": {
        "id": "MLv8mbbth3SU"
      },
      "source": [
        "#### Questão 1\n",
        "\n",
        "Crie um código para imprimir a soma dos elementos de cada uma das listas contidas na seguinte lista:\n",
        "```\n",
        "lista_de_listas = [[4,6,5,9], [1,0,7,2], [3,4,1,8]]\n",
        "```"
      ]
    },
    {
      "cell_type": "code",
      "execution_count": 32,
      "metadata": {
        "id": "P9dywp1xh3SU"
      },
      "outputs": [],
      "source": [
        "lista_de_listas = [[4,6,5,9], [1,0,7,2], [3,4,1,8]]"
      ]
    },
    {
      "cell_type": "code",
      "execution_count": 33,
      "metadata": {},
      "outputs": [
        {
          "name": "stdout",
          "output_type": "stream",
          "text": [
            "24\n",
            "10\n",
            "16\n"
          ]
        }
      ],
      "source": [
        "for lista in lista_de_listas:\n",
        "    print(sum(lista))"
      ]
    },
    {
      "cell_type": "markdown",
      "metadata": {
        "id": "C72i8R3Ih3SU"
      },
      "source": [
        "#### Questão 2\n",
        "\n",
        "Crie um código para gerar uma lista que armazena o terceiro elemento de cada tupla contida na seguinte lista de tuplas:\n",
        "```\n",
        "lista_de_tuplas = [('Pedro', 1.74, 81), ('Júlia', 1.65, 67), ('Otávio', 1.81, 83)]\n",
        "```"
      ]
    },
    {
      "cell_type": "code",
      "execution_count": 34,
      "metadata": {
        "id": "S9EL1Bvjh3SU"
      },
      "outputs": [],
      "source": [
        "lista_de_tuplas = [('Pedro', 1.74, 81), ('Júlia', 1.65, 67), ('Otávio', 1.81, 83)]"
      ]
    },
    {
      "cell_type": "code",
      "execution_count": 35,
      "metadata": {},
      "outputs": [
        {
          "name": "stdout",
          "output_type": "stream",
          "text": [
            "[81, 67, 83]\n"
          ]
        }
      ],
      "source": [
        "lista = []\n",
        "for tupla in lista_de_tuplas:\n",
        "    lista.append(tupla[2])\n",
        "print(lista)"
      ]
    },
    {
      "cell_type": "markdown",
      "metadata": {
        "id": "e5ni69Lwh3SU"
      },
      "source": [
        "#### Questão 3\n",
        "A partir da lista: `lista = ['Pedro', 'Júlia', 'Otávio', 'Eduardo']`, crie um código para gerar uma lista de tuplas em que cada tupla tenha o primeiro elemento como a posição do nome na lista original e o segundo elemento sendo o próprio nome."
      ]
    },
    {
      "cell_type": "code",
      "execution_count": 36,
      "metadata": {
        "id": "x3ckJThph3SU"
      },
      "outputs": [
        {
          "name": "stdout",
          "output_type": "stream",
          "text": [
            "[(0, 81), (1, 67), (2, 83)]\n"
          ]
        }
      ],
      "source": [
        "lista_de_tuplas = []\n",
        "for i in range(len(lista)):\n",
        "    lista_de_tuplas.append((i, lista[i]))\n",
        "print(lista_de_tuplas)"
      ]
    },
    {
      "cell_type": "markdown",
      "metadata": {
        "id": "mtuC2qBLh3SU"
      },
      "source": [
        "#### Questão 4\n",
        "Crie uma lista usando o list comprehension, que armazena somente o valor numérico de cada tupla caso o primeiro elemento seja 'Apartamento' a partir da seguinte lista de tuplas:\n",
        "```\n",
        "aluguel = [('Apartamento', 1700), ('Apartamento', 1400), ('Casa', 2150), ('Apartamento', 1900), ('Casa', 1100)]\n",
        "```\n",
        "\n"
      ]
    },
    {
      "cell_type": "code",
      "execution_count": 37,
      "metadata": {
        "id": "H1S8yT64h3SU"
      },
      "outputs": [],
      "source": [
        "aluguel = [('Apartamento', 1700), ('Apartamento', 1400), ('Casa', 2150), ('Apartamento', 1900), ('Casa', 1100)]"
      ]
    },
    {
      "cell_type": "code",
      "execution_count": 38,
      "metadata": {},
      "outputs": [
        {
          "name": "stdout",
          "output_type": "stream",
          "text": [
            "[1700, 1400, 1900]\n"
          ]
        }
      ],
      "source": [
        "lista = [tupla[1] for tupla in aluguel if tupla[0]== 'Apartamento']\n",
        "print(lista)"
      ]
    },
    {
      "cell_type": "markdown",
      "metadata": {
        "id": "Bd-Xp_iKh3SU"
      },
      "source": [
        "#### Questão 5\n",
        "\n",
        "Crie um dicionário usando o dict comprehension em que as chaves estão na lista `meses = ['Jan', 'Fev', 'Mar', 'Abr', 'Mai', 'Jun', 'Jul', 'Ago', 'Set', 'Out', 'Nov', 'Dez']` e os valores estão na lista `despesa = [860, 490, 1010, 780, 900, 630, 590, 770, 620, 560, 840, 360]`\n",
        "\n"
      ]
    },
    {
      "cell_type": "code",
      "execution_count": 39,
      "metadata": {
        "id": "y7c5ickkh3SV"
      },
      "outputs": [],
      "source": [
        "meses = ['Jan', 'Fev', 'Mar', 'Abr', 'Mai', 'Jun', 'Jul', 'Ago', 'Set', 'Out', 'Nov', 'Dez'] \n",
        "despesa = [860, 490, 1010, 780, 900, 630, 590, 770, 620, 560, 840, 360]"
      ]
    },
    {
      "cell_type": "code",
      "execution_count": 40,
      "metadata": {},
      "outputs": [
        {
          "name": "stdout",
          "output_type": "stream",
          "text": [
            "{'Jan': 860, 'Fev': 490, 'Mar': 1010, 'Abr': 780, 'Mai': 900, 'Jun': 630, 'Jul': 590, 'Ago': 770, 'Set': 620, 'Out': 560, 'Nov': 840, 'Dez': 360}\n"
          ]
        }
      ],
      "source": [
        "dicionario = {meses[i]: despesa[i] for i in range(len(meses))}\n",
        "print(dicionario)"
      ]
    },
    {
      "cell_type": "markdown",
      "metadata": {
        "id": "T9XuUQIph3SU"
      },
      "source": [
        "### Aplicando a projetos"
      ]
    },
    {
      "cell_type": "markdown",
      "metadata": {
        "id": "WrgAw6a0h3SV"
      },
      "source": [
        "#### Questão 6\n",
        "\n",
        "Uma loja possui um banco de dados com a informação de venda de cada representante e de cada ano e precisa filtrar somente os dados do ano 2022 com venda maior do que 6000. A loja forneceu uma amostra contendo apenas as colunas com os anos e os valores de venda para que você ajude a realizar a filtragem dos dados a partir de um código:\n",
        "```\n",
        "vendas = [('2023', 4093), ('2021', 4320), ('2021', 5959), ('2022', 8883), ('2023', 9859), ('2022', 5141), ('2022', 7688), ('2022', 9544), ('2023', 4794), ('2021', 7178), ('2022', 3030), ('2021', 7471), ('2022', 4226), ('2022', 8190), ('2021', 9680), ('2022', 5616)]\n",
        "```\n",
        "Crie uma lista usando list comprehension para filtrar os valores de 2022 e que sejam maiores que 6000.\n"
      ]
    },
    {
      "cell_type": "code",
      "execution_count": 41,
      "metadata": {
        "id": "jQvbtw2sh3SV"
      },
      "outputs": [],
      "source": [
        "vendas = [('2023', 4093), ('2021', 4320), ('2021', 5959), ('2022', 8883), ('2023', 9859), ('2022', 5141), ('2022', 7688), ('2022', 9544), ('2023', 4794), ('2021', 7178), ('2022', 3030), ('2021', 7471), ('2022', 4226), ('2022', 8190), ('2021', 9680), ('2022', 5616)]"
      ]
    },
    {
      "cell_type": "code",
      "execution_count": 42,
      "metadata": {},
      "outputs": [
        {
          "name": "stdout",
          "output_type": "stream",
          "text": [
            "[8883, 7688, 9544, 8190]\n"
          ]
        }
      ],
      "source": [
        "filtro = [tupla[1] for tupla in vendas if tupla[0] == '2022' and tupla[1] > 6000]\n",
        "print(filtro)"
      ]
    },
    {
      "cell_type": "markdown",
      "metadata": {
        "id": "8Hl7OgcQh3SV"
      },
      "source": [
        "#### Questão 7\n",
        "\n",
        "Uma clínica analisa dados de pacientes e armazena o valor numérico da glicose em um banco de dados e gostaria de rotular os dados da seguinte maneira:\n",
        "\n",
        "- Glicose igual ou inferior a 70: 'Hipoglicemia'\n",
        "- Glicose entre 70 a 99: 'Normal'\n",
        "- Glicose entre 100 e 125: 'Alterada'\n",
        "- Glicose superior a 125: 'Diabetes'\n",
        "\n",
        "A clínica disponibilizou parte dos valores e sua tarefa é criar uma lista de tuplas usando list comprehension contendo o rótulo e o valor da glicemia em cada tupla.\n",
        "\n",
        "```\n",
        "glicemia = [129, 82, 60, 97, 101, 65, 62, 167, 87, 53, 58, 92, 66, 120, 109, 62, 86, 96, 103, 88, 155, 52, 89, 73]\n",
        "```"
      ]
    },
    {
      "cell_type": "code",
      "execution_count": 43,
      "metadata": {
        "id": "cIDqBZrxh3SV"
      },
      "outputs": [],
      "source": [
        "glicemia = [129, 82, 60, 97, 101, 65, 62, 167, 87, 53, 58, 92, 66, 120, 109, 62, 86, 96, 103, 88, 155, 52, 89, 73]"
      ]
    },
    {
      "cell_type": "code",
      "execution_count": 44,
      "metadata": {},
      "outputs": [
        {
          "name": "stdout",
          "output_type": "stream",
          "text": [
            "[('Diabetes', 129), ('Normal', 82), ('Hipoglicemia', 60), ('Normal', 97), ('Alterada', 101), ('Hipoglicemia', 65), ('Hipoglicemia', 62), ('Diabetes', 167), ('Normal', 87), ('Hipoglicemia', 53), ('Hipoglicemia', 58), ('Normal', 92), ('Hipoglicemia', 66), ('Alterada', 120), ('Alterada', 109), ('Hipoglicemia', 62), ('Normal', 86), ('Normal', 96), ('Alterada', 103), ('Normal', 88), ('Diabetes', 155), ('Hipoglicemia', 52), ('Normal', 89), ('Normal', 73)]\n"
          ]
        }
      ],
      "source": [
        "rotulos = [('Hipoglicemia', glicose) if glicose <= 70 else ('Normal', glicose) if glicose < 100 else ('Alterada', glicose) if glicose < 125 else ('Diabetes', glicose) for glicose in glicemia]\n",
        "print(rotulos)"
      ]
    },
    {
      "cell_type": "markdown",
      "metadata": {
        "id": "twYIfol8h3SV"
      },
      "source": [
        "#### Questão 8\n",
        "Um e-commerce possui as informações de id de venda, quantidade vendida e preço do produto divididos nas seguintes listas:\n",
        "\n",
        "```\n",
        "id = [0, 1, 2, 3, 4, 5, 6, 7, 8, 9]\n",
        "quantidade = [15, 12, 1, 15, 2, 11, 2, 12, 2, 4]\n",
        "preco = [93.0, 102.0, 18.0, 41.0, 122.0, 14.0, 71.0, 48.0, 14.0, 144.0]\n",
        "```\n",
        "\n",
        "O e-commerce precisa estruturar esses dados em uma tabela contendo o valor total da venda, que é obtida multiplicando a quantidade pelo preço unitário. Além disso, tabela precisa conter um cabeçalho indicando as colunas: 'id', 'quantidade', 'preco' e 'total'.\n",
        "\n",
        "Crie uma lista de tuplas em que cada tupla tenha um id, quantidade, preço e valor total, na qual a primeira tupla é o cabeçalho da tabela.\n"
      ]
    },
    {
      "cell_type": "code",
      "execution_count": 45,
      "metadata": {
        "id": "XnmvwiIwh3SV"
      },
      "outputs": [],
      "source": [
        "id = [0, 1, 2, 3, 4, 5, 6, 7, 8, 9]\n",
        "quantidade = [15, 12, 1, 15, 2, 11, 2, 12, 2, 4]\n",
        "preco = [93.0, 102.0, 18.0, 41.0, 122.0, 14.0, 71.0, 48.0, 14.0, 144.0]"
      ]
    },
    {
      "cell_type": "code",
      "execution_count": 46,
      "metadata": {},
      "outputs": [],
      "source": [
        "tabela = [('id', 'quantidade', 'preco', 'total')]\n",
        "tabela += [(id[i], quantidade[i], preco[i], quantidade[i]*preco[i]) for i in range(len(id))]"
      ]
    },
    {
      "cell_type": "markdown",
      "metadata": {
        "id": "9tMZEiPzh3SV"
      },
      "source": [
        "#### Questão 9\n",
        "\n",
        "Uma empresa possui filiais espalhadas nos estados da região sudeste do Brasil. Em uma das tabelas de cadastro das filiais, há uma coluna contendo a informação de qual é o estado a que pertence:\n",
        "```\n",
        "estados = ['SP', 'ES', 'MG', 'MG', 'SP', 'MG', 'ES', 'ES', 'ES', 'SP', 'SP', 'MG', 'ES', 'SP', 'RJ', 'MG', 'RJ', 'SP', 'MG', 'SP', 'ES', 'SP', 'MG']\n",
        "```\n",
        "\n",
        "A empresa sempre está abrindo novas filiais, de modo que a tabela está constantemente recebendo novos registros e o gestor gostaria de possuir a informação atualizada da quantidade de filiais em cada estado. A partir da coluna com a informação dos estados, crie um dicionário usando dict comprehension com a chave sendo o nome de um estado e o valor sendo a contagem de vezes em que o estado aparece na lista.\n",
        "\n",
        "> Dica: Você pode fazer um passo intermediário para gerar uma lista de listas em que cada uma das listas possui o nome de apenas um estado com valores repetidos."
      ]
    },
    {
      "cell_type": "code",
      "execution_count": 47,
      "metadata": {},
      "outputs": [],
      "source": [
        "estados = ['SP', 'ES', 'MG', 'MG', 'SP', 'MG', 'ES', 'ES', 'ES', 'SP', 'SP', 'MG', 'ES', 'SP', 'RJ', 'MG', 'RJ', 'SP', 'MG', 'SP', 'ES', 'SP', 'MG']"
      ]
    },
    {
      "cell_type": "code",
      "execution_count": 48,
      "metadata": {
        "id": "qXU5UMUih3SV"
      },
      "outputs": [
        {
          "name": "stdout",
          "output_type": "stream",
          "text": [
            "[['RJ', 'RJ'], ['SP', 'SP', 'SP', 'SP', 'SP', 'SP', 'SP', 'SP'], ['ES', 'ES', 'ES', 'ES', 'ES', 'ES'], ['MG', 'MG', 'MG', 'MG', 'MG', 'MG', 'MG']]\n",
            "{'RJ': 2, 'SP': 8, 'ES': 6, 'MG': 7}\n"
          ]
        }
      ],
      "source": [
        "# Armazenando os estados sem repetição de valor\n",
        "estados_unicos = list(set(estados))\n",
        "\n",
        "# Criando uma lista de listas com valores repetidos de cada estado\n",
        "lista_de_listas = []\n",
        "for estado in estados_unicos:\n",
        "    lista = [uf for uf in estados if uf == estado]\n",
        "    lista_de_listas.append(lista)\n",
        "print(lista_de_listas)\n",
        "\n",
        "# Criando um dicionário em que a chave é o nome de cada estado único e o valor é a contagem de elementos\n",
        "contagem_valores = {estados_unicos[i]: len(lista_de_listas[i]) for i in range(len(estados_unicos))}\n",
        "print(contagem_valores)"
      ]
    },
    {
      "cell_type": "markdown",
      "metadata": {
        "id": "JONqYFZjh3SV"
      },
      "source": [
        "#### Questão 10\n",
        "\n",
        "Nessa mesma tabela de cadastro de filiais, há uma coluna com as informações da quantidade de funcionários e o gestor gostaria de ter um agrupamento da soma de funcionários para cada estado. As informações contidas na tabela são:\n",
        "\n",
        "```\n",
        "funcionarios = [('SP', 16), ('ES', 8), ('MG', 9), ('MG', 6), ('SP', 10), ('MG', 4), ('ES',9), ('ES', 7), ('ES', 12), ('SP', 7), ('SP', 11), ('MG',8), ('ES',8), ('SP',9), ('RJ', 13), ('MG', 5), ('RJ', 9), ('SP', 12), ('MG', 10), ('SP', 7), ('ES', 14), ('SP', 10), ('MG', 12)]\n",
        "```\n",
        "\n",
        "A partir da lista de tuplas, crie um dicionário em que as chaves são os nomes dos estados únicos e os valores são as listas com o número de funcionários referentes ao estado. Crie também um dicionário em que as chaves são os nomes dos estados e os valores são a soma de funcionários(as) por estado.\n",
        "\n",
        "> Dica: Você pode fazer um passo intermediário para gerar uma lista de listas em que cada uma das listas possui apenas os valores numéricos de funcionários de cada estado.\n"
      ]
    },
    {
      "cell_type": "code",
      "execution_count": 49,
      "metadata": {
        "id": "lq42ThQNh3SV"
      },
      "outputs": [],
      "source": [
        "funcionarios = [('SP', 16), ('ES', 8), ('MG', 9), ('MG', 6), ('SP', 10), ('MG', 4), ('ES',9), ('ES', 7), ('ES', 12), ('SP', 7), ('SP', 11), ('MG',8), ('ES',8), ('SP',9), ('RJ', 13), ('MG', 5), ('RJ', 9), ('SP', 12), ('MG', 10), ('SP', 7), ('ES', 14), ('SP', 10), ('MG', 12)]"
      ]
    },
    {
      "cell_type": "code",
      "execution_count": 50,
      "metadata": {},
      "outputs": [
        {
          "name": "stdout",
          "output_type": "stream",
          "text": [
            "[[13, 9], [16, 10, 7, 11, 9, 12, 7, 10], [8, 9, 7, 12, 8, 14], [9, 6, 4, 8, 5, 10, 12]]\n",
            "{'RJ': [13, 9], 'SP': [16, 10, 7, 11, 9, 12, 7, 10], 'ES': [8, 9, 7, 12, 8, 14], 'MG': [9, 6, 4, 8, 5, 10, 12]}\n",
            "{'RJ': 22, 'SP': 82, 'ES': 58, 'MG': 54}\n"
          ]
        }
      ],
      "source": [
        "# Armazenando os estados sem repetição de valor\n",
        "estados_unicos = list(set([tupla[0] for tupla in funcionarios]))\n",
        "\n",
        "# Criando uma lista de listas com valores de funcionários de cada estado\n",
        "lista_de_listas = []\n",
        "for estado in estados_unicos:\n",
        "    lista = [tupla[1] for tupla in funcionarios if tupla[0] == estado]\n",
        "    lista_de_listas.append(lista)\n",
        "print(lista_de_listas)\n",
        "\n",
        "# Criando um dicionário com dados agrupados de funcionário por estado\n",
        "agrupamento_por_estado = {estados_unicos[i]: lista_de_listas[i] for i in range(len(estados_unicos))}\n",
        "print(agrupamento_por_estado)\n",
        "\n",
        "# Criando um dicionário com a soma de funcionários por estado\n",
        "soma_por_estado = {estados_unicos[i]: sum(lista_de_listas[i]) for i in range(len(estados_unicos))}\n",
        "print(soma_por_estado)"
      ]
    },
    {
      "cell_type": "markdown",
      "metadata": {
        "id": "ckCXdwLdjYgM"
      },
      "source": [
        "## Aula 4 - Lidando com exceções"
      ]
    },
    {
      "cell_type": "markdown",
      "metadata": {
        "id": "OPBXL2tLjYgM"
      },
      "source": [
        "### Aquecimento"
      ]
    },
    {
      "cell_type": "markdown",
      "metadata": {
        "id": "7z7VpY0ujYgM"
      },
      "source": [
        "#### Questão 1\n",
        "\n",
        "Faça um programa que solicite à pessoa usuária digitar dois números `float` e calcular a divisão entre esses números. O código deve conter um tratamento de erro, indicando o tipo de erro que foi gerado caso a divisão não seja possível de realizar.\n",
        "\n",
        "Teste o programa com o segundo valor numérico do input igual a 0 e também teste utilizando caracteres textuais no input para checar os tipos de erro que ocorrem."
      ]
    },
    {
      "cell_type": "code",
      "execution_count": 62,
      "metadata": {
        "id": "Zg1CLRTxjYgM"
      },
      "outputs": [
        {
          "name": "stdout",
          "output_type": "stream",
          "text": [
            "<class 'ValueError'> Erro: could not convert string to float: ''\n"
          ]
        }
      ],
      "source": [
        "try:\n",
        "    numero_1 = float(input())\n",
        "    numero_2 = float(input())\n",
        "    divisao = numero_1 / numero_2\n",
        "except Exception as e:\n",
        "    print(type(e), f'Erro: {e}')"
      ]
    },
    {
      "cell_type": "markdown",
      "metadata": {
        "id": "KYgeJS5ljYgM"
      },
      "source": [
        "#### Questão 2\n",
        "\n",
        "Faça um programa que solicite à pessoa usuária digitar um texto que será uma chave a ser pesquisada no seguinte dicionário: `idades = {'Júlia': 16, 'Carol': 23, 'Alberto': 19, 'Roberta': 17}`, armazenando o resultado do valor em uma variável. O código deve conter um tratamento de erro `KeyError`, imprimindo a informação 'Nome não encontrado' caso ocorra o erro e imprimir o valor caso não ocorra nenhum.\n",
        "\n",
        "Teste o programa com um nome presente em uma das chaves do dicionário e com um que não esteja no dicionário para verificar a mensagem de erro.\n",
        "\n"
      ]
    },
    {
      "cell_type": "code",
      "execution_count": 65,
      "metadata": {
        "id": "mcTh-_tDjYgM"
      },
      "outputs": [
        {
          "name": "stdout",
          "output_type": "stream",
          "text": [
            "Nome não encontrado\n"
          ]
        }
      ],
      "source": [
        "idades = {'Júlia': 16, 'Carol': 23, 'Alberto': 19, 'Roberta': 17}\n",
        "\n",
        "try:\n",
        "    chave = input()\n",
        "    valor = idades[chave]\n",
        "except KeyError:\n",
        "    print('Nome não encontrado')\n",
        "else:\n",
        "    print(valor)"
      ]
    },
    {
      "cell_type": "markdown",
      "metadata": {
        "id": "tGQNNI_PjYgM"
      },
      "source": [
        "#### Questão 3\n",
        "Crie uma função que recebe uma lista como parâmetro e converta todos os valores da lista para `float`. A função deve conter um tratamento de erro indicando o tipo de erro gerado e retornar a lista caso não tenha ocorrido nenhum erro. Por fim, deve ter a cláusula `finally` para imprimir o texto: 'Fim da execução da função'."
      ]
    },
    {
      "cell_type": "code",
      "execution_count": 105,
      "metadata": {
        "id": "1oflR6ywjYgN"
      },
      "outputs": [],
      "source": [
        "def converte_lista(lista):\n",
        "    try:\n",
        "        nova_lista = [float(elemento) for elemento in lista]\n",
        "    except Exception as e:\n",
        "        print(type(e), f'Erro: {e}')\n",
        "    else:\n",
        "        return nova_lista\n",
        "    finally:\n",
        "        print('Fim da execução da função')"
      ]
    },
    {
      "cell_type": "markdown",
      "metadata": {
        "id": "WWE44VS4jYgN"
      },
      "source": [
        "#### Questão 4\n",
        "Crie uma função que recebe duas listas como parâmetros e agrupe os elementos um a um das listas, formando uma lista de tuplas de 3 elementos, onde o primeiro e segundo elemento da tupla são os valores na posição `i` das listas e o terceiro elemento é a soma dos valores na posição `i` das listas. A função deve conter um tratamento de erro indicando o tipo de erro gerado e retornar como resultado a lista de tuplas. Caso as listas enviadas como parâmetro tenham tamanhos diferentes, a função deve retornar um IndexError com a frase: 'A quantidade de elementos em cada lista é diferente.'\n",
        "\n",
        "Dados para testar a função:\n",
        "\n",
        "Valores sem erro:\n",
        "```\n",
        "lista1 = [4,6,7,9,10]\n",
        "lista 2 = [-4,6,8,7,9]\n",
        "```\n",
        "Listas com tamanhos diferentes:\n",
        "\n",
        "```\n",
        "lista1 = [4,6,7,9,10,4]\n",
        "lista 2 = [-4,6,8,7,9]\n",
        "```\n",
        "Listas com valores incoerentes:\n",
        "\n",
        "```\n",
        "lista1 = [4,6,7,9,'A']\n",
        "lista 2 = [-4,'E',8,7,9]\n",
        "```"
      ]
    },
    {
      "cell_type": "code",
      "execution_count": 100,
      "metadata": {
        "id": "iMjbUztBjYgN"
      },
      "outputs": [],
      "source": [
        "# Valores sem erro\n",
        "lista1 = [4,6,7,9,10]\n",
        "lista2 = [-4,6,8,7,9]\n",
        "\n",
        "\n",
        "def soma_listas(lista1, lista2):\n",
        "    try:\n",
        "        if len(lista1) == len(lista2):\n",
        "            dados = [(lista1[i], lista2[i], lista1[i]+lista2[i]) for i in range(len(lista1))]\n",
        "        else:\n",
        "            raise IndexError('A quantidade de elementos em cada lista é diferente.')\n",
        "    except Exception as e:\n",
        "        print(type(e), f'Erro: {e}')\n",
        "    else:\n",
        "        return dados  "
      ]
    },
    {
      "cell_type": "code",
      "execution_count": 102,
      "metadata": {},
      "outputs": [],
      "source": [
        "# Listas com tamanhos diferentes:\n",
        "\n",
        "lista1 = [4,6,7,9,10,4]\n",
        "lista2 = [-4,6,8,7,9]\n",
        "\n",
        "def soma_listas(lista1, lista2):\n",
        "    try:\n",
        "        if len(lista1) == len(lista2):\n",
        "            dados = [(lista1[i], lista2[i], lista1[i]+lista2[i]) for i in range(len(lista1))]\n",
        "        else:\n",
        "            raise IndexError('A quantidade de elementos em cada lista é diferente.')\n",
        "    except Exception as e:\n",
        "        print(type(e), f'Erro: {e}')\n",
        "    else:\n",
        "        return dados  "
      ]
    },
    {
      "cell_type": "code",
      "execution_count": 104,
      "metadata": {},
      "outputs": [],
      "source": [
        "# Listas com valores incoerentes:\n",
        "\n",
        "lista1 = [4,6,7,9,'A']\n",
        "lista2 = [-4,'E',8,7,9]\n",
        "\n",
        "def soma_listas(lista1, lista2):\n",
        "    try:\n",
        "        if len(lista1) == len(lista2):\n",
        "            dados = [(lista1[i], lista2[i], lista1[i]+lista2[i]) for i in range(len(lista1))]\n",
        "        else:\n",
        "            raise IndexError('A quantidade de elementos em cada lista é diferente.')\n",
        "    except Exception as e:\n",
        "        print(type(e), f'Erro: {e}')\n",
        "    else:\n",
        "        return dados  "
      ]
    },
    {
      "cell_type": "markdown",
      "metadata": {
        "id": "vNSw4u6hjYgN"
      },
      "source": [
        "### Aplicando a projetos"
      ]
    },
    {
      "cell_type": "markdown",
      "metadata": {
        "id": "AHC6OFQDjYgN"
      },
      "source": [
        "#### Questão 5\n",
        "\n",
        "Você recebeu como desafio desenvolver um código que contabiliza as pontuações de estudantes de uma instituição de ensino de acordo com suas respostas num teste.\n",
        "\n",
        "Este código deve ser testado para um exemplo de 3 estudantes com uma lista de listas em que cada lista possui as respostas de 5 questões objetivas de cada estudante. Cada questão vale um ponto e as alternativas possíveis são A, B, C ou D.\n",
        "\n",
        "Caso alguma alternativa em um dos testes não esteja entre as alternativas possíveis você deve lançar um **ValueError** com a mensagem `\"A alternativa [alternativa] não é uma opção de alternativa válida\"`. O cálculo das 3 notas só será realizado mediante as entradas com as alternativas A, B, C ou D em todos os testes.\n",
        "\n",
        "Se não for lançada a exceção, será exibida uma lista com as notas em cada teste.\n",
        "\n",
        "Os dados para o teste do código são:\n",
        "\n",
        "- **Gabarito da prova**:\n",
        "```\n",
        "gabarito = ['D', 'A', 'B', 'C', 'A']\n",
        "```\n",
        "Abaixo temos 2 listas de listas que você pode usar como teste\n",
        "\n",
        "- **Notas sem exceção:**\n",
        "```\n",
        "testes_sem_ex = [['D', 'A', 'B', 'C', 'A'], ['C', 'A', 'A', 'C', 'A'], ['D', 'B', 'A', 'C', 'A']]\n",
        "```\n",
        "- **Notas com exceção:**\n",
        "```\n",
        "testes_com_ex = [['D', 'A', 'B', 'C', 'A'], ['C', 'A', 'A', 'E', 'A'], ['D', 'B', 'A', 'C', 'A']]\n",
        "```\n",
        "\n",
        "> Dica: Para verificar se uma entrada da lista não está entre as alternativas possíveis use a estrutura `lista[i] not in ['A','B','C','D']` (Por exemplo, `1 not in [2,3,4]`... Saída: `True`)"
      ]
    },
    {
      "cell_type": "code",
      "execution_count": 85,
      "metadata": {
        "id": "n7AJhrMpjYgN"
      },
      "outputs": [],
      "source": [
        "# Função para correção das notas\n",
        "\n",
        "gabarito = ['D', 'A', 'B', 'C', 'A']\n",
        "\n",
        "# Criando a função que recebe a lista de listas com as notas dos estudantes\n",
        "def corretor(testes: list):\n",
        "  pontuacoes = [] # criando a lista que receberá as pontuações caso a exceção não seja lançada\n",
        "  try:\n",
        "    for teste in testes:\n",
        "      nota = 0 # variável que acumula a nota de cada estudante\n",
        "      for i in range(len(teste)):\n",
        "        if teste[i] not in ['A', 'B', 'C', 'D']: # Verificamos se temos uma alternativa valida\n",
        "          raise ValueError(f'A alternativa {teste[i]} não é uma opção de alternativa válida')\n",
        "        elif teste[i] == gabarito[i]: # Verificamos se as respostas são iguais e adicionamos à nota\n",
        "          nota += 1\n",
        "      pontuacoes.append(nota) # adicionamos a nota do(a) estudante na lista de pontuações\n",
        "  except Exception as e:\n",
        "    print(e)\n",
        "  else:\n",
        "    return pontuacoes # retornando a lista de pontuações se não lançarmos a exceção"
      ]
    },
    {
      "cell_type": "code",
      "execution_count": 86,
      "metadata": {
        "id": "o_05pMigo-tR"
      },
      "outputs": [
        {
          "data": {
            "text/plain": [
              "[5, 3, 3]"
            ]
          },
          "execution_count": 86,
          "metadata": {},
          "output_type": "execute_result"
        }
      ],
      "source": [
        "# Testando no exemplo que não lança exceção\n",
        "\n",
        "testes_sem_ex = [['D', 'A', 'B', 'C', 'A'], ['C', 'A', 'A', 'C', 'A'], ['D', 'B', 'A', 'C', 'A']]\n",
        "corretor(testes_sem_ex)"
      ]
    },
    {
      "cell_type": "code",
      "execution_count": 87,
      "metadata": {
        "id": "PWeHm6Fjo-at"
      },
      "outputs": [
        {
          "name": "stdout",
          "output_type": "stream",
          "text": [
            "A alternativa E não é uma opção de alternativa válida\n"
          ]
        }
      ],
      "source": [
        "# Testando no exemplo que lança exceção\n",
        "\n",
        "testes_com_ex = [['D', 'A', 'B', 'C', 'A'], ['C', 'A', 'A', 'E', 'A'], ['D', 'B', 'A', 'C', 'A']]\n",
        "corretor(testes_com_ex)"
      ]
    },
    {
      "cell_type": "markdown",
      "metadata": {
        "id": "AjQWxSIq28Ac"
      },
      "source": [
        "#### Questão 6\n",
        "\n",
        "Você está trabalhando com processamento de linguagem natural ([NLP](https://www.alura.com.br/artigos/guia-nlp-conceitos-tecnicas)) e, dessa vez, sua líder requisitou que você criasse um trecho de código que recebe uma lista com as palavras separadas de uma frase gerada pelo ChatGPT.\n",
        "\n",
        "Você precisa criar uma função que avalia cada palavra desse texto e verificar se o tratamento para retirar os símbolos de pontuação (',' '.', '!' e '?') foi realizado. Caso contrário, será lançada uma exceção do tipo **ValueError** apontando o 1º caso em que foi detectado o uso de uma pontuação por meio da frase `\"O texto apresenta pontuações na palavra \"[palavra]\".\"`.\n",
        "\n",
        "Essa demanda é voltada para a análise do padrão de frases geradas pela inteligência artificial.\n",
        "\n",
        "> Dica: Para verificar se uma ou mais das pontuações estão presentes em cada palavra, utilize a palavra chave `or` na condição if (Por exemplo, `('a' or 'b') in 'alura'` ... Saída: `True`)\n",
        "\n",
        "Os dados para o teste do código são:\n",
        "\n",
        "- **Lista tratada:**\n",
        "```\n",
        "lista_tratada = ['Python', 'é', 'uma', 'linguagem', 'de', 'programação', 'poderosa', 'versátil',\n",
        "                  'e', 'fácil', 'de', 'aprender', 'utilizada', 'em', 'diversos', 'campos', 'desde',\n",
        "                  'análise', 'de', 'dados', 'até', 'inteligência', 'artificial']\n",
        "```\n",
        "- **Lista não tratada:**\n",
        "```\n",
        "lista_nao_tratada = ['Python', 'é', 'uma', 'linguagem', 'de', 'programação', 'poderosa,', 'versátil',\n",
        "                  'e', 'fácil,', 'de', 'aprender', 'utilizada', 'em', 'diversos', 'campos,', 'desde',\n",
        "                  'análise', 'de', 'dados', 'até', 'inteligência', 'artificial!']\n",
        "```\n"
      ]
    },
    {
      "cell_type": "code",
      "execution_count": 92,
      "metadata": {
        "id": "gxVg1sc_xACI"
      },
      "outputs": [],
      "source": [
        "# criando a função que recebe a lista de palavras\n",
        "                 \n",
        "def avalia_texto(texto: list):\n",
        "    for palavra in texto:\n",
        "        if ',' in palavra or '.' in palavra or '!' in palavra or '?' in palavra:\n",
        "            raise ValueError(f'O texto apresenta pontuações na palavra \"{palavra}\".')\n",
        "    return \"Texto já tratado!\" # retornando a verificação se não lançada a exceção "
      ]
    },
    {
      "cell_type": "code",
      "execution_count": 93,
      "metadata": {
        "id": "gDvOq79slmlJ"
      },
      "outputs": [
        {
          "name": "stdout",
          "output_type": "stream",
          "text": [
            "Texto já tratado!\n"
          ]
        }
      ],
      "source": [
        "\n",
        "# Testando no exemplo que não lança exceção\n",
        "\n",
        "lista_tratada = ['Python', 'é', 'uma', 'linguagem', 'de', 'programação', 'poderosa', 'versátil',\n",
        "                  'e', 'fácil', 'de', 'aprender', 'utilizada', 'em', 'diversos', 'campos', 'desde',\n",
        "                  'análise', 'de', 'dados', 'até', 'inteligência', 'artificial']\n",
        "\n",
        "try:\n",
        "  avaliacao = avalia_texto(lista_tratada)\n",
        "except Exception as e:\n",
        "  print(e)\n",
        "else:\n",
        "  print(avaliacao)"
      ]
    },
    {
      "cell_type": "code",
      "execution_count": 94,
      "metadata": {
        "id": "PQADJf42woaw"
      },
      "outputs": [
        {
          "name": "stdout",
          "output_type": "stream",
          "text": [
            "O texto apresenta pontuações na palavra \"poderosa,\".\n"
          ]
        }
      ],
      "source": [
        "# Testando no exemplo que lança exceção\n",
        "\n",
        "lista_nao_tratada = ['Python', 'é', 'uma', 'linguagem', 'de', 'programação', 'poderosa,', 'versátil',\n",
        "                  'e', 'fácil,', 'de', 'aprender', 'utilizada', 'em', 'diversos', 'campos,', 'desde',\n",
        "                  'análise', 'de', 'dados', 'até', 'inteligência', 'artificial!']\n",
        "\n",
        "try:\n",
        "  avaliacao = avalia_texto(lista_nao_tratada)\n",
        "except Exception as e:\n",
        "  print(e)\n",
        "else:\n",
        "  print(avaliacao)"
      ]
    },
    {
      "cell_type": "markdown",
      "metadata": {
        "id": "3IhndsTyzdRq"
      },
      "source": [
        "#### Questão 7\n",
        "Você foi contratado como uma pessoa cientista de dados para auxiliar um laboratório que faz experimentos sobre o comportamento de uma cultura de fungos. O laboratório precisa avaliar constantemente a razão (divisão) entre os dados de pressão e temperatura do ambiente controlado recolhidos durante a experimentação para definir a melhor condição para os testes.\n",
        "\n",
        "Para cumprir com a demanda, você precisa criar uma função `divide_colunas` que recebe os dados das colunas de pressão e temperatura (que vem no formato de listas) e gerar uma nova coluna com o resultado da divisão. Os parâmetros da função são as duas listas e você deve tratar dentro dela ao menos 2 tipos de exceções:   \n",
        "- Verificar se as listas têm o mesmo tamanho (ValueError)\n",
        "- Verificar se existe alguma divisão por zero (ZeroDivisionError)\n",
        "\n",
        "Para testar a função, vamos realizar a divisão entre duas listas de dados coletados no experimento, com os valores de pressão e temperatura do ambiente controlado.\n",
        "\n",
        "Como teste, use os seguintes dados:\n",
        "\n",
        "- **Dados sem exceção:**\n",
        "```\n",
        "pressoes = [100, 120, 140, 160, 180]\n",
        "temperaturas = [20, 25, 30, 35, 40]\n",
        "```\n",
        "- **Dados com exceção:**\n",
        "1. Exceção de ZeroDivisionError\n",
        "```\n",
        "pressoes = [60, 120, 140, 160, 180]\n",
        "temperaturas = [0, 25, 30, 35, 40]\n",
        "```\n",
        "2. Exceção de ValueError\n",
        "```\n",
        "pressoes = [100, 120, 140, 160]\n",
        "temperaturas = [20, 25, 30, 35, 40]\n",
        "```\n",
        "\n",
        "> Dica: Você pode usar `zip()` para parear os dados da lista_1 com a lista_2. Crie uma estrutura try-except que caso uma das exceções sejam lançadas, podemos ver o tipo de erro na saída.\n"
      ]
    },
    {
      "cell_type": "code",
      "execution_count": 99,
      "metadata": {
        "id": "pYofyZVsuF2Y"
      },
      "outputs": [],
      "source": [
        "# criando a função que recebe as duas listas e a operação a ser realizada\n",
        "\n",
        "def divide_colunas(lista_1: list, lista_2: list) -> list:\n",
        "\n",
        "  # try-except que verifica se é possível calcular a divisão e lança exceção se as listas tem tamanhos diferentes\n",
        "  # ou se temos alguma divisão por zero em um dos cálculos entre os números das listas\n",
        "  \n",
        "  try:\n",
        "    if len(lista_1) != len(lista_2): # Verificando se as listas tem o mesmo tamanho, se não lança uma exceção\n",
        "      raise ValueError(\"As listas precisam ter o mesmo tamanho\")\n",
        "\n",
        "    # A função zip pareia os elementos das listas e uma lista é gerada por meio da razão entre os pares\n",
        "    resultado = [round(a / b, 2) for a, b in zip(lista_1, lista_2)] \n",
        "  except ValueError as e:\n",
        "    print(e)\n",
        "  except ZeroDivisionError as e:\n",
        "    print(f\"{e}: A 2ª lista não pode possuir um valor igual a 0\")\n",
        "  else:\n",
        "    return resultado"
      ]
    },
    {
      "cell_type": "code",
      "execution_count": 96,
      "metadata": {
        "id": "gSvAEmxit1zI"
      },
      "outputs": [
        {
          "data": {
            "text/plain": [
              "[5.0, 4.8, 4.67, 4.57, 4.5]"
            ]
          },
          "execution_count": 96,
          "metadata": {},
          "output_type": "execute_result"
        }
      ],
      "source": [
        "# Testando no exemplo que não lança exceção\n",
        "pressoes = [100, 120, 140, 160, 180]\n",
        "temperaturas = [20, 25, 30, 35, 40]\n",
        "\n",
        "divide_colunas(pressoes, temperaturas)"
      ]
    },
    {
      "cell_type": "code",
      "execution_count": 97,
      "metadata": {
        "id": "bvebuMOot4ur"
      },
      "outputs": [
        {
          "name": "stdout",
          "output_type": "stream",
          "text": [
            "division by zero: A 2ª lista não pode possuir um valor igual a 0\n"
          ]
        }
      ],
      "source": [
        "# Testando no exemplo que lança exceção (ZeroDivisionError)\n",
        "pressoes = [60, 120, 140, 160, 180]\n",
        "temperaturas = [0, 25, 30, 35, 40]\n",
        "\n",
        "divide_colunas(pressoes, temperaturas)"
      ]
    },
    {
      "cell_type": "code",
      "execution_count": 98,
      "metadata": {
        "id": "sFsfTVHqt4d5"
      },
      "outputs": [
        {
          "name": "stdout",
          "output_type": "stream",
          "text": [
            "As listas precisam ter o mesmo tamanho\n"
          ]
        }
      ],
      "source": [
        "# Testando no exemplo que lança exceção (ValueError)\n",
        "pressoes = [100, 120, 140, 160]\n",
        "temperaturas = [20, 25, 30, 35, 40]\n",
        "\n",
        "divide_colunas(pressoes, temperaturas)"
      ]
    }
  ],
  "metadata": {
    "colab": {
      "include_colab_link": true,
      "provenance": []
    },
    "kernelspec": {
      "display_name": "Python 3",
      "name": "python3"
    },
    "language_info": {
      "codemirror_mode": {
        "name": "ipython",
        "version": 3
      },
      "file_extension": ".py",
      "mimetype": "text/x-python",
      "name": "python",
      "nbconvert_exporter": "python",
      "pygments_lexer": "ipython3",
      "version": "3.12.3"
    }
  },
  "nbformat": 4,
  "nbformat_minor": 0
}
